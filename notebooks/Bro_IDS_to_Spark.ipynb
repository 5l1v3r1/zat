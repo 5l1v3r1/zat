{
 "cells": [
  {
   "cell_type": "markdown",
   "metadata": {
    "deletable": true,
    "editable": true
   },
   "source": [
    "# Bro IDS to Spark\n",
    "In this notebook we're going to explore how to put Bro IDS log data into Spark.\n",
    "\n",
    "\n",
    "## Install Local Spark (NEW as of July 17th 2017!)\n",
    "- pip install pyspark\n",
    "\n",
    "You can test whether spark is installed correctly by starting up the spark shell.\n",
    "- $ spark-shell\n",
    "\n",
    "There are some warnings and stuff but if you get this you have successfully installed spark.\n",
    "You can quit the shell by typing ':quit' and the scala> prompt\n",
    "\n",
    "<div style=\"margin: 20px 20px 20px 20px\"><img align=\"left\" src=\"images/spark.png\" width=\"500px\"></div>"
   ]
  },
  {
   "cell_type": "code",
   "execution_count": 2,
   "metadata": {
    "collapsed": false,
    "deletable": true,
    "editable": true
   },
   "outputs": [],
   "source": [
    "from pyspark.sql import SparkSession"
   ]
  },
  {
   "cell_type": "code",
   "execution_count": 3,
   "metadata": {
    "collapsed": true,
    "deletable": true,
    "editable": true
   },
   "outputs": [],
   "source": [
    "from brothon import bro_log_reader\n",
    "import pandas as pd"
   ]
  },
  {
   "cell_type": "code",
   "execution_count": 4,
   "metadata": {
    "collapsed": false,
    "deletable": true,
    "editable": true
   },
   "outputs": [
    {
     "name": "stdout",
     "output_type": "stream",
     "text": [
      "Successfully monitoring ../data/dns.log...\n"
     ]
    },
    {
     "data": {
      "text/html": [
       "<div>\n",
       "<table border=\"1\" class=\"dataframe\">\n",
       "  <thead>\n",
       "    <tr style=\"text-align: right;\">\n",
       "      <th></th>\n",
       "      <th>AA</th>\n",
       "      <th>RA</th>\n",
       "      <th>RD</th>\n",
       "      <th>TC</th>\n",
       "      <th>TTLs</th>\n",
       "      <th>Z</th>\n",
       "      <th>answers</th>\n",
       "      <th>id.orig_h</th>\n",
       "      <th>id.orig_p</th>\n",
       "      <th>id.resp_h</th>\n",
       "      <th>...</th>\n",
       "      <th>qclass_name</th>\n",
       "      <th>qtype</th>\n",
       "      <th>qtype_name</th>\n",
       "      <th>query</th>\n",
       "      <th>rcode</th>\n",
       "      <th>rcode_name</th>\n",
       "      <th>rejected</th>\n",
       "      <th>trans_id</th>\n",
       "      <th>ts</th>\n",
       "      <th>uid</th>\n",
       "    </tr>\n",
       "  </thead>\n",
       "  <tbody>\n",
       "    <tr>\n",
       "      <th>0</th>\n",
       "      <td>False</td>\n",
       "      <td>True</td>\n",
       "      <td>True</td>\n",
       "      <td>False</td>\n",
       "      <td>36.000000</td>\n",
       "      <td>0</td>\n",
       "      <td>54.245.228.191</td>\n",
       "      <td>192.168.33.10</td>\n",
       "      <td>1030</td>\n",
       "      <td>4.2.2.3</td>\n",
       "      <td>...</td>\n",
       "      <td>C_INTERNET</td>\n",
       "      <td>1</td>\n",
       "      <td>A</td>\n",
       "      <td>guyspy.com</td>\n",
       "      <td>0</td>\n",
       "      <td>NOERROR</td>\n",
       "      <td>False</td>\n",
       "      <td>44949</td>\n",
       "      <td>2013-09-15 17:44:27.631940</td>\n",
       "      <td>CZGShC2znK1sV7jdI7</td>\n",
       "    </tr>\n",
       "    <tr>\n",
       "      <th>1</th>\n",
       "      <td>False</td>\n",
       "      <td>True</td>\n",
       "      <td>True</td>\n",
       "      <td>False</td>\n",
       "      <td>1000.000000,36.000000</td>\n",
       "      <td>0</td>\n",
       "      <td>guyspy.com,54.245.228.191</td>\n",
       "      <td>192.168.33.10</td>\n",
       "      <td>1030</td>\n",
       "      <td>4.2.2.3</td>\n",
       "      <td>...</td>\n",
       "      <td>C_INTERNET</td>\n",
       "      <td>1</td>\n",
       "      <td>A</td>\n",
       "      <td>www.guyspy.com</td>\n",
       "      <td>0</td>\n",
       "      <td>NOERROR</td>\n",
       "      <td>False</td>\n",
       "      <td>50071</td>\n",
       "      <td>2013-09-15 17:44:27.696869</td>\n",
       "      <td>CZGShC2znK1sV7jdI7</td>\n",
       "    </tr>\n",
       "    <tr>\n",
       "      <th>2</th>\n",
       "      <td>False</td>\n",
       "      <td>True</td>\n",
       "      <td>True</td>\n",
       "      <td>False</td>\n",
       "      <td>60.000000,60.000000,60.000000,60.000000,60.000...</td>\n",
       "      <td>0</td>\n",
       "      <td>54.230.86.87,54.230.86.18,54.230.87.160,54.230...</td>\n",
       "      <td>192.168.33.10</td>\n",
       "      <td>1030</td>\n",
       "      <td>4.2.2.3</td>\n",
       "      <td>...</td>\n",
       "      <td>C_INTERNET</td>\n",
       "      <td>1</td>\n",
       "      <td>A</td>\n",
       "      <td>devrubn8mli40.cloudfront.net</td>\n",
       "      <td>0</td>\n",
       "      <td>NOERROR</td>\n",
       "      <td>False</td>\n",
       "      <td>39062</td>\n",
       "      <td>2013-09-15 17:44:28.060639</td>\n",
       "      <td>CZGShC2znK1sV7jdI7</td>\n",
       "    </tr>\n",
       "    <tr>\n",
       "      <th>3</th>\n",
       "      <td>False</td>\n",
       "      <td>True</td>\n",
       "      <td>True</td>\n",
       "      <td>False</td>\n",
       "      <td>60.000000,60.000000,60.000000,60.000000,60.000...</td>\n",
       "      <td>0</td>\n",
       "      <td>54.230.86.87,54.230.86.18,54.230.84.20,54.230....</td>\n",
       "      <td>192.168.33.10</td>\n",
       "      <td>1030</td>\n",
       "      <td>4.2.2.3</td>\n",
       "      <td>...</td>\n",
       "      <td>C_INTERNET</td>\n",
       "      <td>1</td>\n",
       "      <td>A</td>\n",
       "      <td>d31qbv1cthcecs.cloudfront.net</td>\n",
       "      <td>0</td>\n",
       "      <td>NOERROR</td>\n",
       "      <td>False</td>\n",
       "      <td>7312</td>\n",
       "      <td>2013-09-15 17:44:28.141795</td>\n",
       "      <td>CZGShC2znK1sV7jdI7</td>\n",
       "    </tr>\n",
       "    <tr>\n",
       "      <th>4</th>\n",
       "      <td>False</td>\n",
       "      <td>True</td>\n",
       "      <td>True</td>\n",
       "      <td>False</td>\n",
       "      <td>4993.000000,129.000000,129.000000,129.000000</td>\n",
       "      <td>0</td>\n",
       "      <td>cdn.entrust.net.c.footprint.net,192.221.123.25...</td>\n",
       "      <td>192.168.33.10</td>\n",
       "      <td>1030</td>\n",
       "      <td>4.2.2.3</td>\n",
       "      <td>...</td>\n",
       "      <td>C_INTERNET</td>\n",
       "      <td>1</td>\n",
       "      <td>A</td>\n",
       "      <td>crl.entrust.net</td>\n",
       "      <td>0</td>\n",
       "      <td>NOERROR</td>\n",
       "      <td>False</td>\n",
       "      <td>41872</td>\n",
       "      <td>2013-09-15 17:44:28.422704</td>\n",
       "      <td>CZGShC2znK1sV7jdI7</td>\n",
       "    </tr>\n",
       "  </tbody>\n",
       "</table>\n",
       "<p>5 rows × 23 columns</p>\n",
       "</div>"
      ],
      "text/plain": [
       "      AA    RA    RD     TC  \\\n",
       "0  False  True  True  False   \n",
       "1  False  True  True  False   \n",
       "2  False  True  True  False   \n",
       "3  False  True  True  False   \n",
       "4  False  True  True  False   \n",
       "\n",
       "                                                TTLs  Z  \\\n",
       "0                                          36.000000  0   \n",
       "1                              1000.000000,36.000000  0   \n",
       "2  60.000000,60.000000,60.000000,60.000000,60.000...  0   \n",
       "3  60.000000,60.000000,60.000000,60.000000,60.000...  0   \n",
       "4       4993.000000,129.000000,129.000000,129.000000  0   \n",
       "\n",
       "                                             answers      id.orig_h  \\\n",
       "0                                     54.245.228.191  192.168.33.10   \n",
       "1                          guyspy.com,54.245.228.191  192.168.33.10   \n",
       "2  54.230.86.87,54.230.86.18,54.230.87.160,54.230...  192.168.33.10   \n",
       "3  54.230.86.87,54.230.86.18,54.230.84.20,54.230....  192.168.33.10   \n",
       "4  cdn.entrust.net.c.footprint.net,192.221.123.25...  192.168.33.10   \n",
       "\n",
       "   id.orig_p id.resp_h         ...          qclass_name qtype qtype_name  \\\n",
       "0       1030   4.2.2.3         ...           C_INTERNET     1          A   \n",
       "1       1030   4.2.2.3         ...           C_INTERNET     1          A   \n",
       "2       1030   4.2.2.3         ...           C_INTERNET     1          A   \n",
       "3       1030   4.2.2.3         ...           C_INTERNET     1          A   \n",
       "4       1030   4.2.2.3         ...           C_INTERNET     1          A   \n",
       "\n",
       "                           query rcode rcode_name rejected trans_id  \\\n",
       "0                     guyspy.com     0    NOERROR    False    44949   \n",
       "1                 www.guyspy.com     0    NOERROR    False    50071   \n",
       "2   devrubn8mli40.cloudfront.net     0    NOERROR    False    39062   \n",
       "3  d31qbv1cthcecs.cloudfront.net     0    NOERROR    False     7312   \n",
       "4                crl.entrust.net     0    NOERROR    False    41872   \n",
       "\n",
       "                          ts                 uid  \n",
       "0 2013-09-15 17:44:27.631940  CZGShC2znK1sV7jdI7  \n",
       "1 2013-09-15 17:44:27.696869  CZGShC2znK1sV7jdI7  \n",
       "2 2013-09-15 17:44:28.060639  CZGShC2znK1sV7jdI7  \n",
       "3 2013-09-15 17:44:28.141795  CZGShC2znK1sV7jdI7  \n",
       "4 2013-09-15 17:44:28.422704  CZGShC2znK1sV7jdI7  \n",
       "\n",
       "[5 rows x 23 columns]"
      ]
     },
     "execution_count": 4,
     "metadata": {},
     "output_type": "execute_result"
    }
   ],
   "source": [
    "# Convert Bro IDS log to Pandas DataFrame\n",
    "reader = bro_log_reader.BroLogReader('../data/dns.log')\n",
    "dns_df = pd.DataFrame(reader.readrows())\n",
    "dns_df.head()"
   ]
  },
  {
   "cell_type": "code",
   "execution_count": 5,
   "metadata": {
    "collapsed": false,
    "deletable": true,
    "editable": true
   },
   "outputs": [],
   "source": [
    "# Spark needs super clean data\n",
    "import numpy as np\n",
    "\n",
    "# Replace Bro '-' with NAs\n",
    "dns_df.replace('-', np.NaN, inplace=True)\n",
    "dns_df.dropna(inplace=True)"
   ]
  },
  {
   "cell_type": "code",
   "execution_count": 6,
   "metadata": {
    "collapsed": false,
    "deletable": true,
    "editable": true
   },
   "outputs": [],
   "source": [
    "# Spin up a local Spark kernel\n",
    "spark = SparkSession.builder.appName('my_awesome').getOrCreate()"
   ]
  },
  {
   "cell_type": "code",
   "execution_count": 7,
   "metadata": {
    "collapsed": false,
    "deletable": true,
    "editable": true
   },
   "outputs": [],
   "source": [
    "# Convert to Spark DF\n",
    "spark_df = spark.createDataFrame(dns_df)"
   ]
  },
  {
   "cell_type": "code",
   "execution_count": 8,
   "metadata": {
    "collapsed": false,
    "deletable": true,
    "editable": true
   },
   "outputs": [
    {
     "data": {
      "text/plain": [
       "51"
      ]
     },
     "execution_count": 8,
     "metadata": {},
     "output_type": "execute_result"
    }
   ],
   "source": [
    "spark_df.count()"
   ]
  },
  {
   "cell_type": "code",
   "execution_count": 9,
   "metadata": {
    "collapsed": false,
    "deletable": true,
    "editable": true
   },
   "outputs": [],
   "source": [
    "# Try a generator\n",
    "def data_generator():\n",
    "    for _ in range(10):\n",
    "        yield {'a': 3, 'b': 'foo', 'c': 2.4}"
   ]
  },
  {
   "cell_type": "code",
   "execution_count": 10,
   "metadata": {
    "collapsed": false,
    "deletable": true,
    "editable": true
   },
   "outputs": [
    {
     "name": "stderr",
     "output_type": "stream",
     "text": [
      "/Users/briford/.pyenv/versions/3.6.0/envs/brothon_3/lib/python3.6/site-packages/pyspark/sql/session.py:331: UserWarning: inferring schema from dict is deprecated,please use pyspark.sql.Row instead\n",
      "  warnings.warn(\"inferring schema from dict is deprecated,\"\n"
     ]
    }
   ],
   "source": [
    "# Convert to Spark DF\n",
    "gen_spark_df = spark.createDataFrame(data_generator())"
   ]
  },
  {
   "cell_type": "code",
   "execution_count": 11,
   "metadata": {
    "collapsed": false,
    "deletable": true,
    "editable": true
   },
   "outputs": [
    {
     "data": {
      "text/plain": [
       "10"
      ]
     },
     "execution_count": 11,
     "metadata": {},
     "output_type": "execute_result"
    }
   ],
   "source": [
    "gen_spark_df.count()"
   ]
  },
  {
   "cell_type": "markdown",
   "metadata": {},
   "source": [
    "# Streaming\n",
    "Okay so at this point I can create a Spark Dataframe and I want to now use my Python Generator to create an 'unbounded DataFrame (as discussed in https://databricks.com/blog/2016/07/28/structured-streaming-in-apache-spark.html)\n",
    "\n",
    "Details:\n",
    "- From Cell 4 above: reader.readrows() is a Python generator that dynamically 'yields' Python dictionaries when new data comes in.\n",
    "- I'd like to use this Python Generator as a Streaming 'source'\n",
    "\n",
    "Resources that I've looked at\n",
    "- https://spark.apache.org/docs/latest/streaming-programming-guide.html\n",
    "- https://databricks.com/blog/2016/07/28/structured-streaming-in-apache-spark.html\n",
    "- https://spark.apache.org/docs/latest/streaming-custom-receivers.html\n",
    "- http://cdn2.hubspot.net/hubfs/438089/notebooks/spark2.0/Structured%20Streaming%20using%20Python%20DataFrames%20API.html\n",
    "\n",
    "Any thoughts/suggestions/pointers are greatly appreciated"
   ]
  },
  {
   "cell_type": "code",
   "execution_count": 12,
   "metadata": {
    "collapsed": false,
    "deletable": true,
    "editable": true
   },
   "outputs": [],
   "source": [
    "from pyspark.streaming import StreamingContext\n",
    "ssc = StreamingContext(spark, 60)  "
   ]
  },
  {
   "cell_type": "code",
   "execution_count": null,
   "metadata": {
    "collapsed": true,
    "deletable": true,
    "editable": true
   },
   "outputs": [],
   "source": [
    "ssc."
   ]
  }
 ],
 "metadata": {
  "kernelspec": {
   "display_name": "Python 3",
   "language": "python",
   "name": "python3"
  },
  "language_info": {
   "codemirror_mode": {
    "name": "ipython",
    "version": 3
   },
   "file_extension": ".py",
   "mimetype": "text/x-python",
   "name": "python",
   "nbconvert_exporter": "python",
   "pygments_lexer": "ipython3",
   "version": "3.6.0"
  }
 },
 "nbformat": 4,
 "nbformat_minor": 2
}
