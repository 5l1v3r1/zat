{
 "cells": [
  {
   "cell_type": "markdown",
   "metadata": {},
   "source": [
    "<div style=\"float: right; margin: 20px 20px 20px 20px\"><img src=\"images/bro.png\" width=\"100px\"></div>\n",
    "\n",
    "# Converting Bro logs to Parquet files\n",
    "Apache Parquet is a columnar storage format focused on performance. Parquet data is often used within the Hadoop ecosystem and we will specifically be using it for loading data into both Pandas and Spark.\n",
    "\n",
    "<div style=\"float: right; margin: 30px -100px 0px 0px\"><img src=\"images/parquet.png\" width=\"300px\"></div>\n",
    "\n",
    "### Software\n",
    "- Bro Analysis Tools (BAT): https://github.com/Kitware/bat\n",
    "- Pandas: https://github.com/pandas-dev/pandas\n",
    "- Parquet: https://parquet.apache.org/\n",
    "\n",
    "<div style=\"float: right; margin: 30px 0px 0px 0px\"><img src=\"images/spark.png\" width=\"200px\"></div>\n",
    "\n",
    "### Data\n",
    "- Sec Repo: http://www.secrepo.com (there's no Bro headers on these)\n",
    "- Kitware: https://data.kitware.com/#collection/58d564478d777f0aef5d893a (with headers)\n",
    "\n",
    "<div style=\"float: left; margin: 80px 20px 50px 20px\"><img src=\"images/bleeding.jpg\" width=\"250px\"></div>\n",
    "### Bleeding Edge Warning:\n",
    "You know you're on the bleeding edge when you link PRs that are still open/in-progess. There are **two open issues** with saving Parquet Files right now.\n",
    "\n",
    "- Timestamps in Spark: https://issues.apache.org/jira/browse/ARROW-1499\n",
    "- TimeDelta Support: https://issues.apache.org/jira/browse/ARROW-835\n",
    "\n",
    "For Spark timestamps, the BAT Parquet writer used below will output INT96 timestamps for now (we'll change over later when ARROW-1499 is complete). \n",
    "\n",
    "For the TimeDelta support we'll just have to wait until that gets pushed into the main branch and released."
   ]
  },
  {
   "cell_type": "code",
   "execution_count": 1,
   "metadata": {},
   "outputs": [
    {
     "name": "stdout",
     "output_type": "stream",
     "text": [
      "BAT: 0.2.7\n",
      "PySpark: 2.2.0\n",
      "PyArrow: 0.6.0\n"
     ]
    }
   ],
   "source": [
    "# Third Party Imports\n",
    "import pyspark\n",
    "from pyspark.sql import SparkSession\n",
    "import pyarrow\n",
    "\n",
    "# Local imports\n",
    "import bat\n",
    "from bat.log_to_parquet import log_to_parquet\n",
    "\n",
    "# Good to print out versions of stuff\n",
    "print('BAT: {:s}'.format(bat.__version__))\n",
    "print('PySpark: {:s}'.format(pyspark.__version__))\n",
    "print('PyArrow: {:s}'.format(pyarrow.__version__))"
   ]
  },
  {
   "cell_type": "markdown",
   "metadata": {},
   "source": [
    "## Bro IDS log to Parquet File\n",
    "Here we're loading in a Bro HTTP log with ~2 million rows to demonstrate the functionality and do some simple spark processing on the data.\n",
    "- log_to_parquet is iterative so it can handle large files\n",
    "- 'row_group_size' defaults to 1 Million rows but can be set manually"
   ]
  },
  {
   "cell_type": "code",
   "execution_count": 2,
   "metadata": {},
   "outputs": [
    {
     "name": "stdout",
     "output_type": "stream",
     "text": [
      "Successfully monitoring /Users/briford/data/bro/sec_repo/http.log...\n",
      "Writing 0 rows...\n",
      "Writing 1000000 rows...\n",
      "Writing 2000000 rows...\n",
      "Writing 2048441 rows...\n",
      "Parquet File Complete\n"
     ]
    }
   ],
   "source": [
    "# Create a Pandas dataframe from a Bro log\n",
    "# You can download these Bro logs from https://data.kitware.com/#collection/58d564478d777f0aef5d893a\n",
    "filename = '/Users/briford/data/bro/sec_repo/http.log'\n",
    "log_to_parquet(filename, 'http.parquet')"
   ]
  },
  {
   "cell_type": "markdown",
   "metadata": {},
   "source": [
    "<div style=\"float: right; margin: 20px 20px 20px 20px\"><img src=\"images/compressed.jpeg\" width=\"300px\"></div>\n",
    "\n",
    "# Parquet files are compressed\n",
    "Here we see the first benefit of Parquet which stores data with compressed columnar format. There are several compression options available (including uncompressed).\n",
    "\n",
    "## Original http.log = 1.3 GB \n",
    "## http.parquet = 106 MB"
   ]
  },
  {
   "cell_type": "code",
   "execution_count": 3,
   "metadata": {
    "collapsed": true
   },
   "outputs": [],
   "source": [
    "# Spin up a local Spark Session\n",
    "spark = SparkSession.builder.appName('my_awesome').getOrCreate()"
   ]
  },
  {
   "cell_type": "code",
   "execution_count": 4,
   "metadata": {},
   "outputs": [
    {
     "name": "stdout",
     "output_type": "stream",
     "text": [
      "CPU times: user 2.19 ms, sys: 1.38 ms, total: 3.57 ms\n",
      "Wall time: 2.88 s\n"
     ]
    }
   ],
   "source": [
    "# Have Spark read in the Parquet File (very fast)\n",
    "%time spark_df = spark.read.parquet(\"http.parquet\")"
   ]
  },
  {
   "cell_type": "markdown",
   "metadata": {},
   "source": [
    "<div style=\"float: right; margin: 20px 20px 20px 20px\"><img src=\"images/fast.jpg\" width=\"350px\"></div>\n",
    "\n",
    "# Parquet files are fast\n",
    "We see from the above timer output that the Parquet file only takes a few seconds to read into Spark."
   ]
  },
  {
   "cell_type": "markdown",
   "metadata": {},
   "source": [
    "<div style=\"float: left; margin: 20px 20px 20px 20px\"><img src=\"images/eyeball.jpeg\" width=\"150px\"></div>\n",
    "# Lets look at our data\n",
    "We should always inspect out data when it comes in. Look at both the data values and the data types to make sure you're getting exactly what you should be."
   ]
  },
  {
   "cell_type": "code",
   "execution_count": 5,
   "metadata": {},
   "outputs": [
    {
     "name": "stdout",
     "output_type": "stream",
     "text": [
      "Number of Spark DataFrame rows: 2048442\n",
      "Columns: filename,host,id.orig_h,id.orig_p,id.resp_h,id.resp_p,info_code,info_msg,method,orig_fuids,orig_mime_types,password,proxied,referrer,request_body_len,resp_fuids,resp_mime_types,response_body_len,status_code,status_msg,tags,trans_depth,uid,uri,user_agent,username,ts\n"
     ]
    }
   ],
   "source": [
    "# Get information about the Spark DataFrame\n",
    "num_rows = spark_df.count()\n",
    "print(\"Number of Spark DataFrame rows: {:d}\".format(num_rows))\n",
    "columns = spark_df.columns\n",
    "print(\"Columns: {:s}\".format(','.join(columns)))"
   ]
  },
  {
   "cell_type": "code",
   "execution_count": 39,
   "metadata": {},
   "outputs": [
    {
     "name": "stdout",
     "output_type": "stream",
     "text": [
      "+--------------+---------------+--------------+-----------+--------------------+\n",
      "|     id.orig_h|           host|           uri|status_code|          user_agent|\n",
      "+--------------+---------------+--------------+-----------+--------------------+\n",
      "|192.168.202.79|192.168.229.251|/DEASLog02.nsf|        404|Mozilla/5.0 (comp...|\n",
      "|192.168.202.79|192.168.229.251|/DEASLog03.nsf|        404|Mozilla/5.0 (comp...|\n",
      "|192.168.202.79|192.168.229.251|/DEASLog04.nsf|        404|Mozilla/5.0 (comp...|\n",
      "|192.168.202.79|192.168.229.251|/DEASLog05.nsf|        404|Mozilla/5.0 (comp...|\n",
      "|192.168.202.79|192.168.229.251|  /DEASLog.nsf|        404|Mozilla/5.0 (comp...|\n",
      "+--------------+---------------+--------------+-----------+--------------------+\n",
      "only showing top 5 rows\n",
      "\n"
     ]
    }
   ],
   "source": [
    "spark_df.select(['`id.orig_h`', 'host', 'uri', 'status_code', 'user_agent']).show(5)"
   ]
  },
  {
   "cell_type": "markdown",
   "metadata": {},
   "source": [
    "<div style=\"float: right; margin: 20px 20px 20px 20px\"><img src=\"images/deep_dive.jpeg\" width=\"350px\"></div>\n",
    "\n",
    "# Data looks good, lets take a deeper dive\n",
    "We should always inspect out data when it comes in. Look at both the data values and the data types to make sure you're getting exactly what you should be.\n",
    "\n",
    "Spark has a powerful SQL engine as well as a Machine Learning library. Here we're just going to run some of the SQL commands to do some investigation of our data.\n",
    "<div style=\"float: left; margin: 20px 0px 0px 0px\"><img src=\"images/spark_sql.jpg\" width=\"150px\"></div>\n",
    "<div style=\"float: right; margin: 0px 50px 0px 0px\"><img src=\"images/mllib.png\" width=\"150px\"></div>"
   ]
  },
  {
   "cell_type": "code",
   "execution_count": 27,
   "metadata": {},
   "outputs": [
    {
     "name": "stdout",
     "output_type": "stream",
     "text": [
      "+---------------+---------------+--------------------+-----------+-----+\n",
      "|      id.orig_h|           host|                 uri|status_code|count|\n",
      "+---------------+---------------+--------------------+-----------+-----+\n",
      "|192.168.202.102| 192.168.23.202|           /main.php|        200|31590|\n",
      "|192.168.202.102| 192.168.26.202|           /main.php|        200|31305|\n",
      "|192.168.202.102| 192.168.24.202|           /main.php|        200|27694|\n",
      "|192.168.202.102| 192.168.28.202|           /main.php|        200|17544|\n",
      "|192.168.202.102| 192.168.22.202|           /main.php|        200| 8477|\n",
      "| 192.168.202.65|  192.168.201.2|/resources/getCur...|        200| 5261|\n",
      "| 192.168.202.76|192.168.229.156|/admin/config.php...|        200| 2949|\n",
      "|192.168.202.110|192.168.229.251|                   /|        200| 2130|\n",
      "|192.168.202.125| 192.168.25.203|/phpmyadmin/index...|        200| 2121|\n",
      "|192.168.202.110| 192.168.27.203|                   /|        200| 2081|\n",
      "|192.168.202.102|192.168.229.101|              /login|        200| 1658|\n",
      "|192.168.202.110|192.168.229.156|/admin/config.php...|        200| 1301|\n",
      "|192.168.202.110| 192.168.22.253|                   /|        403| 1248|\n",
      "|192.168.202.110| 192.168.22.102|                   /|        200| 1239|\n",
      "|192.168.202.110|192.168.229.251|                   /|        401| 1102|\n",
      "|192.168.202.110| 192.168.28.202|                   /|        200| 1046|\n",
      "|192.168.202.110|192.168.229.251|                   /|          0| 1042|\n",
      "|192.168.202.110| 192.168.22.252|                   /|        200| 1034|\n",
      "|192.168.202.110| 192.168.28.102|                   /|        404| 1032|\n",
      "|192.168.202.110| 192.168.27.253|                   /|        403| 1030|\n",
      "+---------------+---------------+--------------------+-----------+-----+\n",
      "only showing top 20 rows\n",
      "\n"
     ]
    }
   ],
   "source": [
    "spark_df.groupBy('`id.orig_h`', 'host', 'uri', 'status_code').count()\\\n",
    "        .sort('count', ascending=False).show()"
   ]
  },
  {
   "cell_type": "markdown",
   "metadata": {},
   "source": [
    "<div style=\"float: right; margin: 0px 50px 0px 0px\"><img src=\"images/anxious.jpg\" width=\"150px\"></div>\n",
    "\n",
    "# The 192.168.202.102 Host is Making us Nervous\n",
    "- We'll create a dataframe just for that machine with the SQL where clause\n",
    "- Then we group up that machines activity\n",
    "- Looks like the machine is performing Recon"
   ]
  },
  {
   "cell_type": "code",
   "execution_count": 36,
   "metadata": {},
   "outputs": [
    {
     "name": "stdout",
     "output_type": "stream",
     "text": [
      "Number of Rows: 212234\n",
      "+---------------+---------------+--------------------+-----------+-----+\n",
      "|      id.orig_h|           host|                 uri|status_code|count|\n",
      "+---------------+---------------+--------------------+-----------+-----+\n",
      "|192.168.202.102| 192.168.23.202|           /main.php|        200|31590|\n",
      "|192.168.202.102| 192.168.26.202|           /main.php|        200|31305|\n",
      "|192.168.202.102| 192.168.24.202|           /main.php|        200|27694|\n",
      "|192.168.202.102| 192.168.28.202|           /main.php|        200|17544|\n",
      "|192.168.202.102| 192.168.22.202|           /main.php|        200| 8477|\n",
      "|192.168.202.102|192.168.229.101|              /login|        200| 1658|\n",
      "|192.168.202.102| 192.168.23.202|        /help.php?q=|        200|  748|\n",
      "|192.168.202.102| 192.168.23.202|       /add_note.php|        200|  668|\n",
      "|192.168.202.102|              -|                   /|        302|  345|\n",
      "|192.168.202.102|192.168.229.101|                   /|        200|  336|\n",
      "|192.168.202.102|              -|         /.jsp aaAAA|          0|  252|\n",
      "|192.168.202.102|              -|                   -|        400|  231|\n",
      "|192.168.202.102| 192.168.23.202|                   /|        200|  206|\n",
      "|192.168.202.102| 192.168.23.152|/phpScheduleIt/re...|        404|  203|\n",
      "|192.168.202.102| 192.168.23.103|/phpScheduleIt/re...|        404|  203|\n",
      "|192.168.202.102| 192.168.22.152|/phpScheduleIt/re...|        404|  203|\n",
      "|192.168.202.102| 192.168.24.152|/phpScheduleIt/re...|        404|  203|\n",
      "|192.168.202.102| 192.168.28.202|                   /|        200|  201|\n",
      "|192.168.202.102| 192.168.23.202|/main.php?stuff=2...|        200|  199|\n",
      "|192.168.202.102| 192.168.28.202|/top.php?stuff=19...|        200|  192|\n",
      "+---------------+---------------+--------------------+-----------+-----+\n",
      "only showing top 20 rows\n",
      "\n"
     ]
    }
   ],
   "source": [
    "from pyspark.sql.functions import col\n",
    "interesting_df = spark_df.where(col('`id.orig_h`') == '192.168.202.102')\n",
    "print(\"Number of Rows: {:d}\".format(interesting_df.count()))\n",
    "interesting_df.groupBy('host', 'uri', 'statu# Show histogram of the Spark DF query lengths"
   ]
  },
  {
   "cell_type": "code",
   "execution_count": 43,
   "metadata": {
    "collapsed": true
   },
   "outputs": [],
   "source": [
    "# Plotting defaults\n",
    "%matplotlib inline\n",
    "import matplotlib.pyplot as plt\n",
    "from bat.utils import plot_utils\n",
    "plot_utils.plot_defaults()"
   ]
  },
  {
   "cell_type": "code",
   "execution_count": 46,
   "metadata": {},
   "outputs": [
    {
     "data": {
      "text/plain": [
       "<matplotlib.text.Text at 0x11bbb5208>"
      ]
     },
     "execution_count": 46,
     "metadata": {},
     "output_type": "execute_result"
    },
    {
     "data": {
      "image/png": "[encoded data removed]",
      "text/plain": [
       "<matplotlib.figure.Figure at 0x11b8a8d68>"
      ]
     },
     "metadata": {},
     "output_type": "display_data"
    }
   ],
   "source": [
    "# Show histogram of the Spark DF query lengths\n",
    "bins, counts = interesting_df.select('response_body_len').rdd.flatMap(lambda x: x).histogram(20)\n",
    "\n",
    "# This is a bit awkward but I believe this is the correct way to do it\n",
    "plt.hist(bins[:-1], bins=bins, weights=counts)\n",
    "plt.grid(True)\n",
    "plt.xlabel('Query Lengths')\n",
    "plt.ylabel('Counts')"
   ]
  },
  {
   "cell_type": "markdown",
   "metadata": {},
   "source": [
    "<div style=\"float: right; margin: 20px 20px 20px 20px\"><img src=\"images/pandas_real.png\" width=\"400px\"></div>\n",
    "\n",
    "# Pandas are Nice\n",
    "Since we now are looking a one particular machine we can convert to Pandas DataFrame and use the resample/plotting methods.\n",
    "<div style=\"float: left; margin: 20px 20px 20px 20px\"><img src=\"images/pandas.png\" width=\"200px\"></div>"
   ]
  },
  {
   "cell_type": "code",
   "execution_count": 53,
   "metadata": {},
   "outputs": [
    {
     "data": {
      "text/html": [
       "<div>\n",
       "<style>\n",
       "    .dataframe thead tr:only-child th {\n",
       "        text-align: right;\n",
       "    }\n",
       "\n",
       "    .dataframe thead th {\n",
       "        text-align: left;\n",
       "    }\n",
       "\n",
       "    .dataframe tbody tr th {\n",
       "        vertical-align: top;\n",
       "    }\n",
       "</style>\n",
       "<table border=\"1\" class=\"dataframe\">\n",
       "  <thead>\n",
       "    <tr style=\"text-align: right;\">\n",
       "      <th></th>\n",
       "      <th>host</th>\n",
       "      <th>status_code</th>\n",
       "    </tr>\n",
       "    <tr>\n",
       "      <th>ts</th>\n",
       "      <th></th>\n",
       "      <th></th>\n",
       "    </tr>\n",
       "  </thead>\n",
       "  <tbody>\n",
       "    <tr>\n",
       "      <th>2012-03-16 01:02:04.740</th>\n",
       "      <td>-</td>\n",
       "      <td>400</td>\n",
       "    </tr>\n",
       "    <tr>\n",
       "      <th>2012-03-16 01:02:57.040</th>\n",
       "      <td>192.168.22.203</td>\n",
       "      <td>200</td>\n",
       "    </tr>\n",
       "    <tr>\n",
       "      <th>2012-03-16 01:02:57.140</th>\n",
       "      <td>192.168.22.203</td>\n",
       "      <td>404</td>\n",
       "    </tr>\n",
       "    <tr>\n",
       "      <th>2012-03-16 01:03:04.460</th>\n",
       "      <td>-</td>\n",
       "      <td>400</td>\n",
       "    </tr>\n",
       "    <tr>\n",
       "      <th>2012-03-16 01:03:04.460</th>\n",
       "      <td>-</td>\n",
       "      <td>400</td>\n",
       "    </tr>\n",
       "  </tbody>\n",
       "</table>\n",
       "</div>"
      ],
      "text/plain": [
       "                                   host  status_code\n",
       "ts                                                  \n",
       "2012-03-16 01:02:04.740               -          400\n",
       "2012-03-16 01:02:57.040  192.168.22.203          200\n",
       "2012-03-16 01:02:57.140  192.168.22.203          404\n",
       "2012-03-16 01:03:04.460               -          400\n",
       "2012-03-16 01:03:04.460               -          400"
      ]
     },
     "execution_count": 53,
     "metadata": {},
     "output_type": "execute_result"
    }
   ],
   "source": [
    "http_df = interesting_df.select('ts', 'host', 'status_code').toPandas().set_index('ts', drop=True)\n",
    "http_df.head()"
   ]
  },
  {
   "cell_type": "code",
   "execution_count": 55,
   "metadata": {},
   "outputs": [
    {
     "data": {
      "text/plain": [
       "<matplotlib.text.Text at 0x12c3d35c0>"
      ]
     },
     "execution_count": 55,
     "metadata": {},
     "output_type": "execute_result"
    },
    {
     "data": {
      "image/png": "[encoded data removed]",
      "text/plain": [
       "<matplotlib.figure.Figure at 0x12ecbb588>"
      ]
     },
     "metadata": {},
     "output_type": "display_data"
    }
   ],
   "source": [
    "http_df['host'].resample('5Min').count().plot()\n",
    "plt.xlabel('HTTP Requests per Second')"
   ]
  },
  {
   "cell_type": "markdown",
   "metadata": {},
   "source": [
    "<div style=\"float: right; margin: 50px 0px 0px 0px\"><img src=\"https://www.kitware.com/img/small_logo_over.png\"></div>\n",
    "## Wrap Up\n",
    "Well that's it for this notebook, we went from a Bro log to a high performance Parquet file and then did some digging with SQL and plotting.\n",
    "\n",
    "If you liked this notebook please visit the [BAT](https://github.com/Kitware/bat) project for more notebooks and examples."
   ]
  }
 ],
 "metadata": {
  "kernelspec": {
   "display_name": "Python 3",
   "language": "python",
   "name": "python3"
  },
  "language_info": {
   "codemirror_mode": {
    "name": "ipython",
    "version": 3
   },
   "file_extension": ".py",
   "mimetype": "text/x-python",
   "name": "python",
   "nbconvert_exporter": "python",
   "pygments_lexer": "ipython3",
   "version": "3.6.2"
  }
 },
 "nbformat": 4,
 "nbformat_minor": 2
}
