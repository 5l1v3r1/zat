{
 "cells": [
  {
   "cell_type": "markdown",
   "metadata": {
    "deletable": true,
    "editable": true
   },
   "source": [
    "<div style=\"float: right; margin: 20px 20px 20px 20px\"><img src=\"images/bro.png\" width=\"150px\"></div>\n",
    "\n",
    "# Bro IDS Network Data to Scikit-Learn\n",
    "In this notebook we're going to be using the BroThon Python module and explore the functionality that enables us to easily go from Bro IDS data to Pandas to Scikit-Learn. Once we get our data in a form that is usable by Scikit-Learn we have a wide array of data analysis and machine learning algorithms at our disposal.\n",
    "\n",
    "<div style=\"float: right; margin: 0px 0px 0px 0px\"><img src=\"images/pandas.png\" width=\"300px\"></div>\n",
    "\n",
    "### Software\n",
    "- BroThon: https://github.com/Kitware/BroThon\n",
    "- Pandas: https://github.com/pandas-dev/pandas\n",
    "- Scikit-Learn: http://scikit-learn.org/stable/index.html\n",
    "\n",
    "### Techniques\n",
    "<div style=\"float: right; margin: 20px 20px 20px 20px\"><img src=\"images/scikit.png\" width=\"220px\"></div>\n",
    "\n",
    "- One Hot Encoding: http://pandas.pydata.org/pandas-docs/stable/generated/pandas.get_dummies.html\n",
    "- PCA: http://scikit-learn.org/stable/modules/generated/sklearn.decomposition.PCA.html\n",
    "- Kmeans: http://scikit-learn.org/stable/modules/generated/sklearn.cluster.KMeans.html\n",
    "\n",
    "### Thanks\n",
    "- DummyEncoder class, used internally as part of DataFrameToMatrix(), is based on a great talk from Tom Augspurger's at PyData Chicago 2016: https://youtu.be/KLPtEBokqQ0\n",
    "\n",
    "### Code Availability\n",
    "All this code in this notebook is from the examples/bro_to_scikit.py file in the BroThon repository (https://github.com/Kitware/BroThon). If you have any questions/problems please don't hesitate to open up an Issue in GitHub or even better submit a PR. :) \n",
    "\n",
    "<div style=\"float: left; margin: 20px 20px 20px 20px\"><img src=\"https://www.kitware.com/img/small_logo_over.png\"></div>"
   ]
  },
  {
   "cell_type": "code",
   "execution_count": 38,
   "metadata": {
    "collapsed": false,
    "deletable": true,
    "editable": true
   },
   "outputs": [
    {
     "name": "stdout",
     "output_type": "stream",
     "text": [
      "BroThon: 0.2.1\n",
      "Pandas: 0.19.2\n",
      "Numpy: 1.12.1\n",
      "Scikit Learn Version: 0.18.1\n"
     ]
    }
   ],
   "source": [
    "# Third Party Imports\n",
    "import pandas as pd\n",
    "import sklearn\n",
    "from sklearn.decomposition import PCA\n",
    "from sklearn.discriminant_analysis import LinearDiscriminantAnalysis\n",
    "from sklearn.cluster import KMeans\n",
    "import matplotlib.pyplot as plt\n",
    "import numpy as np\n",
    "\n",
    "# Local imports\n",
    "import brothon\n",
    "from brothon import bro_log_reader\n",
    "from brothon.analysis import dataframe_to_matrix\n",
    "\n",
    "# Good to print out versions of stuff\n",
    "print('BroThon: {:s}'.format(brothon.__version__))\n",
    "print('Pandas: {:s}'.format(pd.__version__))\n",
    "print('Numpy: {:s}'.format(np.__version__))\n",
    "print('Scikit Learn Version:', sklearn.__version__)"
   ]
  },
  {
   "cell_type": "markdown",
   "metadata": {
    "deletable": true,
    "editable": true
   },
   "source": [
    "## Quickly go from Bro IDS log to Pandas DataFrame"
   ]
  },
  {
   "cell_type": "code",
   "execution_count": 39,
   "metadata": {
    "collapsed": false,
    "deletable": true,
    "editable": true
   },
   "outputs": [
    {
     "name": "stdout",
     "output_type": "stream",
     "text": [
      "Successfully monitoring ../data/dns.log...\n"
     ]
    },
    {
     "data": {
      "text/html": [
       "<div>\n",
       "<table border=\"1\" class=\"dataframe\">\n",
       "  <thead>\n",
       "    <tr style=\"text-align: right;\">\n",
       "      <th></th>\n",
       "      <th>AA</th>\n",
       "      <th>RA</th>\n",
       "      <th>RD</th>\n",
       "      <th>TC</th>\n",
       "      <th>TTLs</th>\n",
       "      <th>Z</th>\n",
       "      <th>answers</th>\n",
       "      <th>id.orig_h</th>\n",
       "      <th>id.orig_p</th>\n",
       "      <th>id.resp_h</th>\n",
       "      <th>...</th>\n",
       "      <th>qclass_name</th>\n",
       "      <th>qtype</th>\n",
       "      <th>qtype_name</th>\n",
       "      <th>query</th>\n",
       "      <th>rcode</th>\n",
       "      <th>rcode_name</th>\n",
       "      <th>rejected</th>\n",
       "      <th>trans_id</th>\n",
       "      <th>ts</th>\n",
       "      <th>uid</th>\n",
       "    </tr>\n",
       "  </thead>\n",
       "  <tbody>\n",
       "    <tr>\n",
       "      <th>0</th>\n",
       "      <td>False</td>\n",
       "      <td>True</td>\n",
       "      <td>True</td>\n",
       "      <td>False</td>\n",
       "      <td>36.000000</td>\n",
       "      <td>0</td>\n",
       "      <td>54.245.228.191</td>\n",
       "      <td>192.168.33.10</td>\n",
       "      <td>1030</td>\n",
       "      <td>4.2.2.3</td>\n",
       "      <td>...</td>\n",
       "      <td>C_INTERNET</td>\n",
       "      <td>1</td>\n",
       "      <td>A</td>\n",
       "      <td>guyspy.com</td>\n",
       "      <td>0</td>\n",
       "      <td>NOERROR</td>\n",
       "      <td>False</td>\n",
       "      <td>44949</td>\n",
       "      <td>2013-09-15 17:44:27.631940</td>\n",
       "      <td>CZGShC2znK1sV7jdI7</td>\n",
       "    </tr>\n",
       "    <tr>\n",
       "      <th>1</th>\n",
       "      <td>False</td>\n",
       "      <td>True</td>\n",
       "      <td>True</td>\n",
       "      <td>False</td>\n",
       "      <td>1000.000000,36.000000</td>\n",
       "      <td>0</td>\n",
       "      <td>guyspy.com,54.245.228.191</td>\n",
       "      <td>192.168.33.10</td>\n",
       "      <td>1030</td>\n",
       "      <td>4.2.2.3</td>\n",
       "      <td>...</td>\n",
       "      <td>C_INTERNET</td>\n",
       "      <td>1</td>\n",
       "      <td>A</td>\n",
       "      <td>www.guyspy.com</td>\n",
       "      <td>0</td>\n",
       "      <td>NOERROR</td>\n",
       "      <td>False</td>\n",
       "      <td>50071</td>\n",
       "      <td>2013-09-15 17:44:27.696869</td>\n",
       "      <td>CZGShC2znK1sV7jdI7</td>\n",
       "    </tr>\n",
       "    <tr>\n",
       "      <th>2</th>\n",
       "      <td>False</td>\n",
       "      <td>True</td>\n",
       "      <td>True</td>\n",
       "      <td>False</td>\n",
       "      <td>60.000000,60.000000,60.000000,60.000000,60.000...</td>\n",
       "      <td>0</td>\n",
       "      <td>54.230.86.87,54.230.86.18,54.230.87.160,54.230...</td>\n",
       "      <td>192.168.33.10</td>\n",
       "      <td>1030</td>\n",
       "      <td>4.2.2.3</td>\n",
       "      <td>...</td>\n",
       "      <td>C_INTERNET</td>\n",
       "      <td>1</td>\n",
       "      <td>A</td>\n",
       "      <td>devrubn8mli40.cloudfront.net</td>\n",
       "      <td>0</td>\n",
       "      <td>NOERROR</td>\n",
       "      <td>False</td>\n",
       "      <td>39062</td>\n",
       "      <td>2013-09-15 17:44:28.060639</td>\n",
       "      <td>CZGShC2znK1sV7jdI7</td>\n",
       "    </tr>\n",
       "    <tr>\n",
       "      <th>3</th>\n",
       "      <td>False</td>\n",
       "      <td>True</td>\n",
       "      <td>True</td>\n",
       "      <td>False</td>\n",
       "      <td>60.000000,60.000000,60.000000,60.000000,60.000...</td>\n",
       "      <td>0</td>\n",
       "      <td>54.230.86.87,54.230.86.18,54.230.84.20,54.230....</td>\n",
       "      <td>192.168.33.10</td>\n",
       "      <td>1030</td>\n",
       "      <td>4.2.2.3</td>\n",
       "      <td>...</td>\n",
       "      <td>C_INTERNET</td>\n",
       "      <td>1</td>\n",
       "      <td>A</td>\n",
       "      <td>d31qbv1cthcecs.cloudfront.net</td>\n",
       "      <td>0</td>\n",
       "      <td>NOERROR</td>\n",
       "      <td>False</td>\n",
       "      <td>7312</td>\n",
       "      <td>2013-09-15 17:44:28.141795</td>\n",
       "      <td>CZGShC2znK1sV7jdI7</td>\n",
       "    </tr>\n",
       "    <tr>\n",
       "      <th>4</th>\n",
       "      <td>False</td>\n",
       "      <td>True</td>\n",
       "      <td>True</td>\n",
       "      <td>False</td>\n",
       "      <td>4993.000000,129.000000,129.000000,129.000000</td>\n",
       "      <td>0</td>\n",
       "      <td>cdn.entrust.net.c.footprint.net,192.221.123.25...</td>\n",
       "      <td>192.168.33.10</td>\n",
       "      <td>1030</td>\n",
       "      <td>4.2.2.3</td>\n",
       "      <td>...</td>\n",
       "      <td>C_INTERNET</td>\n",
       "      <td>1</td>\n",
       "      <td>A</td>\n",
       "      <td>crl.entrust.net</td>\n",
       "      <td>0</td>\n",
       "      <td>NOERROR</td>\n",
       "      <td>False</td>\n",
       "      <td>41872</td>\n",
       "      <td>2013-09-15 17:44:28.422704</td>\n",
       "      <td>CZGShC2znK1sV7jdI7</td>\n",
       "    </tr>\n",
       "  </tbody>\n",
       "</table>\n",
       "<p>5 rows × 23 columns</p>\n",
       "</div>"
      ],
      "text/plain": [
       "      AA    RA    RD     TC                                               TTLs  Z                                            answers      id.orig_h  id.orig_p id.resp_h         ...          qclass_name qtype qtype_name                          query rcode rcode_name rejected trans_id                         ts                 uid\n",
       "0  False  True  True  False                                          36.000000  0                                     54.245.228.191  192.168.33.10       1030   4.2.2.3         ...           C_INTERNET     1          A                     guyspy.com     0    NOERROR    False    44949 2013-09-15 17:44:27.631940  CZGShC2znK1sV7jdI7\n",
       "1  False  True  True  False                              1000.000000,36.000000  0                          guyspy.com,54.245.228.191  192.168.33.10       1030   4.2.2.3         ...           C_INTERNET     1          A                 www.guyspy.com     0    NOERROR    False    50071 2013-09-15 17:44:27.696869  CZGShC2znK1sV7jdI7\n",
       "2  False  True  True  False  60.000000,60.000000,60.000000,60.000000,60.000...  0  54.230.86.87,54.230.86.18,54.230.87.160,54.230...  192.168.33.10       1030   4.2.2.3         ...           C_INTERNET     1          A   devrubn8mli40.cloudfront.net     0    NOERROR    False    39062 2013-09-15 17:44:28.060639  CZGShC2znK1sV7jdI7\n",
       "3  False  True  True  False  60.000000,60.000000,60.000000,60.000000,60.000...  0  54.230.86.87,54.230.86.18,54.230.84.20,54.230....  192.168.33.10       1030   4.2.2.3         ...           C_INTERNET     1          A  d31qbv1cthcecs.cloudfront.net     0    NOERROR    False     7312 2013-09-15 17:44:28.141795  CZGShC2znK1sV7jdI7\n",
       "4  False  True  True  False       4993.000000,129.000000,129.000000,129.000000  0  cdn.entrust.net.c.footprint.net,192.221.123.25...  192.168.33.10       1030   4.2.2.3         ...           C_INTERNET     1          A                crl.entrust.net     0    NOERROR    False    41872 2013-09-15 17:44:28.422704  CZGShC2znK1sV7jdI7\n",
       "\n",
       "[5 rows x 23 columns]"
      ]
     },
     "execution_count": 39,
     "metadata": {},
     "output_type": "execute_result"
    }
   ],
   "source": [
    "# Load in the Bro IDS dns logs\n",
    "reader = bro_log_reader.BroLogReader('../data/dns.log')\n",
    "\n",
    "# Create a Pandas dataframe from reader\n",
    "bro_df = pd.DataFrame(reader.readrows())\n",
    "\n",
    "# Print out the head of the dataframe\n",
    "bro_df.head()"
   ]
  },
  {
   "cell_type": "markdown",
   "metadata": {
    "deletable": true,
    "editable": true
   },
   "source": [
    "<div style=\"float: left; margin: 20px -10px 0px -40px\"><img src=\"images/confused.jpg\" width=\"200px\"></div>\n",
    "<div style=\"float: right; margin: 20px -10px 0px -10px\"><img src=\"images/pandas.png\" width=\"300px\"></div>\n",
    "## So... what just happened?\n",
    "**Yep it was quick... the two little lines of code above turned a Bro IDS log (any log) into a Pandas DataFrame. The BroThon package also supports streaming data from dynamic/active logs, handles log rotations and in general tries to make your life a bit easier when doing data analysis and machine learning on Bro data.**\n",
    "\n",
    "**Now that we have the data in a dataframe there are a million wonderful things we could do for data munging, processing and analysis but that will have to wait for another time/notebook.**"
   ]
  },
  {
   "cell_type": "code",
   "execution_count": 40,
   "metadata": {
    "collapsed": false,
    "deletable": true,
    "editable": true
   },
   "outputs": [],
   "source": [
    "# Using Pandas we can easily and efficiently compute additional data metrics\n",
    "# Here we use the vectorized operations of Pandas/Numpy to compute query length\n",
    "bro_df['query_length'] = bro_df['query'].str.len()"
   ]
  },
  {
   "cell_type": "markdown",
   "metadata": {
    "deletable": true,
    "editable": true
   },
   "source": [
    "## DNS records are a mix of numeric and categorical data\n",
    "When we look at the dns records some of the data is numerical and some of it is categorical so we'll need a way of handling both data types in a generalized way. BroThon has a DataFrameToMatrix class that handles a lot of the details and mechanics of combining numerical and categorical data, we'll use below."
   ]
  },
  {
   "cell_type": "code",
   "execution_count": 41,
   "metadata": {
    "collapsed": false,
    "deletable": true,
    "editable": true
   },
   "outputs": [
    {
     "data": {
      "text/html": [
       "<div>\n",
       "<table border=\"1\" class=\"dataframe\">\n",
       "  <thead>\n",
       "    <tr style=\"text-align: right;\">\n",
       "      <th></th>\n",
       "      <th>AA</th>\n",
       "      <th>RA</th>\n",
       "      <th>RD</th>\n",
       "      <th>TC</th>\n",
       "      <th>Z</th>\n",
       "      <th>rejected</th>\n",
       "      <th>proto</th>\n",
       "      <th>query</th>\n",
       "      <th>qclass_name</th>\n",
       "      <th>qtype_name</th>\n",
       "      <th>rcode_name</th>\n",
       "      <th>query_length</th>\n",
       "    </tr>\n",
       "  </thead>\n",
       "  <tbody>\n",
       "    <tr>\n",
       "      <th>0</th>\n",
       "      <td>False</td>\n",
       "      <td>True</td>\n",
       "      <td>True</td>\n",
       "      <td>False</td>\n",
       "      <td>0</td>\n",
       "      <td>False</td>\n",
       "      <td>udp</td>\n",
       "      <td>guyspy.com</td>\n",
       "      <td>C_INTERNET</td>\n",
       "      <td>A</td>\n",
       "      <td>NOERROR</td>\n",
       "      <td>10</td>\n",
       "    </tr>\n",
       "    <tr>\n",
       "      <th>1</th>\n",
       "      <td>False</td>\n",
       "      <td>True</td>\n",
       "      <td>True</td>\n",
       "      <td>False</td>\n",
       "      <td>0</td>\n",
       "      <td>False</td>\n",
       "      <td>udp</td>\n",
       "      <td>www.guyspy.com</td>\n",
       "      <td>C_INTERNET</td>\n",
       "      <td>A</td>\n",
       "      <td>NOERROR</td>\n",
       "      <td>14</td>\n",
       "    </tr>\n",
       "    <tr>\n",
       "      <th>2</th>\n",
       "      <td>False</td>\n",
       "      <td>True</td>\n",
       "      <td>True</td>\n",
       "      <td>False</td>\n",
       "      <td>0</td>\n",
       "      <td>False</td>\n",
       "      <td>udp</td>\n",
       "      <td>devrubn8mli40.cloudfront.net</td>\n",
       "      <td>C_INTERNET</td>\n",
       "      <td>A</td>\n",
       "      <td>NOERROR</td>\n",
       "      <td>28</td>\n",
       "    </tr>\n",
       "    <tr>\n",
       "      <th>3</th>\n",
       "      <td>False</td>\n",
       "      <td>True</td>\n",
       "      <td>True</td>\n",
       "      <td>False</td>\n",
       "      <td>0</td>\n",
       "      <td>False</td>\n",
       "      <td>udp</td>\n",
       "      <td>d31qbv1cthcecs.cloudfront.net</td>\n",
       "      <td>C_INTERNET</td>\n",
       "      <td>A</td>\n",
       "      <td>NOERROR</td>\n",
       "      <td>29</td>\n",
       "    </tr>\n",
       "    <tr>\n",
       "      <th>4</th>\n",
       "      <td>False</td>\n",
       "      <td>True</td>\n",
       "      <td>True</td>\n",
       "      <td>False</td>\n",
       "      <td>0</td>\n",
       "      <td>False</td>\n",
       "      <td>udp</td>\n",
       "      <td>crl.entrust.net</td>\n",
       "      <td>C_INTERNET</td>\n",
       "      <td>A</td>\n",
       "      <td>NOERROR</td>\n",
       "      <td>15</td>\n",
       "    </tr>\n",
       "  </tbody>\n",
       "</table>\n",
       "</div>"
      ],
      "text/plain": [
       "      AA    RA    RD     TC  Z rejected proto                          query qclass_name qtype_name rcode_name  query_length\n",
       "0  False  True  True  False  0    False   udp                     guyspy.com  C_INTERNET          A    NOERROR            10\n",
       "1  False  True  True  False  0    False   udp                 www.guyspy.com  C_INTERNET          A    NOERROR            14\n",
       "2  False  True  True  False  0    False   udp   devrubn8mli40.cloudfront.net  C_INTERNET          A    NOERROR            28\n",
       "3  False  True  True  False  0    False   udp  d31qbv1cthcecs.cloudfront.net  C_INTERNET          A    NOERROR            29\n",
       "4  False  True  True  False  0    False   udp                crl.entrust.net  C_INTERNET          A    NOERROR            15"
      ]
     },
     "execution_count": 41,
     "metadata": {},
     "output_type": "execute_result"
    }
   ],
   "source": [
    "# These are the features we want (note some of these are categorical :)\n",
    "features = ['AA', 'RA', 'RD', 'TC', 'Z', 'rejected', 'proto', 'query', \n",
    "            'qclass_name', 'qtype_name', 'rcode_name', 'query_length']\n",
    "feature_df = bro_df[features]\n",
    "feature_df.head()"
   ]
  },
  {
   "cell_type": "markdown",
   "metadata": {
    "deletable": true,
    "editable": true
   },
   "source": [
    "<div style=\"float: right; margin: -10px 40px -10px 40px\"><img src=\"images/transformers.png\" width=\"200px\"></div>\n",
    "## Transformers\n",
    "**We'll now use a BroThon scikit-learn tranformer class to convert the Pandas DataFrame to a numpy ndarray (matrix). Yes it's awesome... I'm not sure it's Optimus Prime awesome.. but it's still pretty nice.**"
   ]
  },
  {
   "cell_type": "code",
   "execution_count": 42,
   "metadata": {
    "collapsed": false,
    "deletable": true,
    "editable": true
   },
   "outputs": [
    {
     "name": "stdout",
     "output_type": "stream",
     "text": [
      "Changing column proto to category...\n",
      "Changing column qclass_name to category...\n",
      "Changing column qtype_name to category...\n",
      "Changing column rcode_name to category...\n",
      "Normalizing column Z...\n",
      "Normalizing column query_length...\n"
     ]
    },
    {
     "data": {
      "text/plain": [
       "array([[False, True, True, ..., 1, 0, 1],\n",
       "       [False, True, True, ..., 1, 0, 1],\n",
       "       [False, True, True, ..., 1, 0, 1],\n",
       "       ..., \n",
       "       [False, True, True, ..., 1, 0, 1],\n",
       "       [False, True, True, ..., 1, 0, 1],\n",
       "       [False, True, True, ..., 1, 0, 1]], dtype=object)"
      ]
     },
     "execution_count": 42,
     "metadata": {},
     "output_type": "execute_result"
    }
   ],
   "source": [
    "# Use the BroThon DataframeToMatrix class (handles categorical data)\n",
    "# You can see below it uses a heuristic to detect category data. When doing\n",
    "# this for real we should explicitly convert before sending to the transformer.\n",
    "to_matrix = dataframe_to_matrix.DataFrameToMatrix()\n",
    "bro_matrix = to_matrix.fit_transform(feature_df)\n",
    "bro_matrix"
   ]
  },
  {
   "cell_type": "markdown",
   "metadata": {
    "deletable": true,
    "editable": true
   },
   "source": [
    "<div style=\"float: right; margin: 0px 0px 0px 0px\"><img src=\"images/rock.gif\" width=\"150px\"></div>\n",
    "<div style=\"float: left; margin: 10px 20px 10px 10px\"><img src=\"images/scikit.png\" width=\"200px\"></div>\n",
    "\n",
    "## Scikit-Learn\n",
    "**Now that we have a numpy ndarray(matrix) we ready to rock with scikit-learn...**"
   ]
  },
  {
   "cell_type": "code",
   "execution_count": 43,
   "metadata": {
    "collapsed": false,
    "deletable": true,
    "editable": true
   },
   "outputs": [
    {
     "data": {
      "text/html": [
       "<div>\n",
       "<table border=\"1\" class=\"dataframe\">\n",
       "  <thead>\n",
       "    <tr style=\"text-align: right;\">\n",
       "      <th></th>\n",
       "      <th>query</th>\n",
       "      <th>proto</th>\n",
       "      <th>x</th>\n",
       "      <th>y</th>\n",
       "      <th>cluster</th>\n",
       "    </tr>\n",
       "  </thead>\n",
       "  <tbody>\n",
       "    <tr>\n",
       "      <th>0</th>\n",
       "      <td>guyspy.com</td>\n",
       "      <td>udp</td>\n",
       "      <td>-0.435190</td>\n",
       "      <td>-0.123476</td>\n",
       "      <td>0</td>\n",
       "    </tr>\n",
       "    <tr>\n",
       "      <th>1</th>\n",
       "      <td>www.guyspy.com</td>\n",
       "      <td>udp</td>\n",
       "      <td>-0.443992</td>\n",
       "      <td>-0.132687</td>\n",
       "      <td>0</td>\n",
       "    </tr>\n",
       "    <tr>\n",
       "      <th>2</th>\n",
       "      <td>devrubn8mli40.cloudfront.net</td>\n",
       "      <td>udp</td>\n",
       "      <td>-0.474801</td>\n",
       "      <td>-0.164924</td>\n",
       "      <td>0</td>\n",
       "    </tr>\n",
       "    <tr>\n",
       "      <th>3</th>\n",
       "      <td>d31qbv1cthcecs.cloudfront.net</td>\n",
       "      <td>udp</td>\n",
       "      <td>-0.477002</td>\n",
       "      <td>-0.167226</td>\n",
       "      <td>0</td>\n",
       "    </tr>\n",
       "    <tr>\n",
       "      <th>4</th>\n",
       "      <td>crl.entrust.net</td>\n",
       "      <td>udp</td>\n",
       "      <td>-0.446193</td>\n",
       "      <td>-0.134989</td>\n",
       "      <td>0</td>\n",
       "    </tr>\n",
       "  </tbody>\n",
       "</table>\n",
       "</div>"
      ],
      "text/plain": [
       "                           query proto         x         y  cluster\n",
       "0                     guyspy.com   udp -0.435190 -0.123476        0\n",
       "1                 www.guyspy.com   udp -0.443992 -0.132687        0\n",
       "2   devrubn8mli40.cloudfront.net   udp -0.474801 -0.164924        0\n",
       "3  d31qbv1cthcecs.cloudfront.net   udp -0.477002 -0.167226        0\n",
       "4                crl.entrust.net   udp -0.446193 -0.134989        0"
      ]
     },
     "execution_count": 43,
     "metadata": {},
     "output_type": "execute_result"
    }
   ],
   "source": [
    "# Now we're ready for scikit-learn!\n",
    "# Just some simple stuff for this example, KMeans and PCA\n",
    "kmeans = KMeans(n_clusters=5).fit_predict(bro_matrix)\n",
    "pca = PCA(n_components=2).fit_transform(bro_matrix)\n",
    "\n",
    "# Now we can put our ML results back onto our dataframe!\n",
    "bro_df['x'] = pca[:, 0] # PCA X Column\n",
    "bro_df['y'] = pca[:, 1] # PCA Y Column\n",
    "bro_df['cluster'] = kmeans\n",
    "bro_df[['query', 'proto', 'x', 'y', 'cluster']].head()  # Showing the scikit-learn results in our dataframe"
   ]
  },
  {
   "cell_type": "code",
   "execution_count": 44,
   "metadata": {
    "collapsed": true,
    "deletable": true,
    "editable": true
   },
   "outputs": [],
   "source": [
    "# Plotting defaults\n",
    "%matplotlib inline\n",
    "import matplotlib.pyplot as plt\n",
    "plt.rcParams['font.size'] = 18.0\n",
    "plt.rcParams['figure.figsize'] = 15.0, 7.0\n",
    "\n",
    "# Helper method for scatter/beeswarm plot\n",
    "def jitter(arr):\n",
    "    stdev = .05*(max(arr)-min(arr))\n",
    "    return arr + np.random.randn(len(arr)) * stdev"
   ]
  },
  {
   "cell_type": "code",
   "execution_count": 45,
   "metadata": {
    "collapsed": false,
    "deletable": true,
    "editable": true
   },
   "outputs": [
    {
     "data": {
      "image/png": "[encoded data removed]",
      "text/plain": [
       "<matplotlib.figure.Figure at 0x10f165278>"
      ]
     },
     "metadata": {},
     "output_type": "display_data"
    }
   ],
   "source": [
    "# Jitter so we can see instances that are projected coincident in 2D\n",
    "bro_df['jx'] = jitter(bro_df['x'])\n",
    "bro_df['jy'] = jitter(bro_df['y'])\n",
    "\n",
    "# Now use dataframe group by cluster\n",
    "cluster_groups = bro_df.groupby('cluster')\n",
    "\n",
    "# Plot the Machine Learning results\n",
    "fig, ax = plt.subplots()\n",
    "colors = {0:'green', 1:'blue', 2:'red', 3:'orange', 4:'purple'}\n",
    "for key, group in cluster_groups:\n",
    "    group.plot(ax=ax, kind='scatter', x='jx', y='jy', alpha=0.5, s=250,\n",
    "               label='Cluster: {:d}'.format(key), color=colors[key])"
   ]
  },
  {
   "cell_type": "markdown",
   "metadata": {
    "deletable": true,
    "editable": true
   },
   "source": [
    "<div style=\"float: right; margin: 20px 20px 20px 20px\"><img src=\"images/eyeball.jpeg\" width=\"200px\"></div>\n",
    "\n",
    "## Lets Investigate the 5 clusters of DNS data\n",
    "**We cramed a bunch of features into the clustering algorithm. The features were both numerical and categorical. So did the clustering 'do the right thing'? Well first some caveats and disclaimers:** \n",
    "- We're obviously working with a small amount of Bro DNS data\n",
    "- This is an example to show how the tranformations work (from Bro to Pandas to Scikit)\n",
    "- The DNS data is real data but for this example and others we obviously pulled in 'weird' stuff on purpose\n",
    "- We knew that the K in KMeans should be 5 :)\n",
    "\n",
    "**Okay will all those caveats lets look at how the clustering did on both numeric and categorical data combined**\n",
    "### Cluster details\n",
    "- Cluster 0: (42 observations) Looks like 'normal' DNS requests\n",
    "- Cluster 1: (11 observations) All the queries are '-' (Bro for NA/not found/etc)\n",
    "- Cluster 2: ( 6 observations) The protocol is TCP instead of the normal UDP\n",
    "- Cluster 3: ( 4 observations) The reserved Z bit is set to 1 (required to be 0)\n",
    "- Cluster 4: ( 4 observations) All the DNS queries are exceptionally long\n",
    "\n",
    "## Numerical + Categorical = AOK\n",
    "With our example data we've successfully gone from Bro logs to Pandas to scikit-learn. The clusters appear to make sense and certainly from an investigative and threat hunting perspective being able to cluster the data and use PCA for dimensionality reduction might come in handy depending on your use case "
   ]
  },
  {
   "cell_type": "code",
   "execution_count": 46,
   "metadata": {
    "collapsed": false,
    "deletable": true,
    "editable": true
   },
   "outputs": [
    {
     "name": "stdout",
     "output_type": "stream",
     "text": [
      "\n",
      "Cluster 0: 42 observations\n",
      "                           query  Z proto qtype_name  cluster\n",
      "0                     guyspy.com  0   udp          A        0\n",
      "1                 www.guyspy.com  0   udp          A        0\n",
      "2   devrubn8mli40.cloudfront.net  0   udp          A        0\n",
      "3  d31qbv1cthcecs.cloudfront.net  0   udp          A        0\n",
      "4                crl.entrust.net  0   udp          A        0\n",
      "\n",
      "Cluster 1: 11 observations\n",
      "   query  Z proto qtype_name  cluster\n",
      "39     -  0   udp          -        1\n",
      "40     -  0   udp          -        1\n",
      "41     -  0   udp          -        1\n",
      "42     -  0   udp          -        1\n",
      "43     -  0   udp          -        1\n",
      "\n",
      "Cluster 2: 6 observations\n",
      "            query  Z proto qtype_name  cluster\n",
      "61  j.maxmind.com  0   tcp          A        2\n",
      "62  j.maxmind.com  0   tcp          A        2\n",
      "63  j.maxmind.com  0   tcp          A        2\n",
      "64  j.maxmind.com  0   tcp          A        2\n",
      "65  j.maxmind.com  0   tcp          A        2\n",
      "\n",
      "Cluster 3: 4 observations\n",
      "            query  Z proto qtype_name  cluster\n",
      "57  j.maxmind.com  1   udp          A        3\n",
      "58  j.maxmind.com  1   udp          A        3\n",
      "59  j.maxmind.com  1   udp          A        3\n",
      "60  j.maxmind.com  1   udp          A        3\n",
      "\n",
      "Cluster 4: 4 observations\n",
      "                                                query  Z proto qtype_name  cluster\n",
      "53  superlongcrazydnsqueryforoutlierdetectionj.max...  0   udp          A        4\n",
      "54  xyzsuperlongcrazydnsqueryforoutlierdetectionj....  0   udp          A        4\n",
      "55  abcsuperlongcrazydnsqueryforoutlierdetectionj....  0   udp          A        4\n",
      "56  qrssuperlongcrazydnsqueryforoutlierdetectionj....  0   udp          A        4\n"
     ]
    }
   ],
   "source": [
    "# Now print out the details for each cluster\n",
    "pd.set_option('display.width', 1000)\n",
    "show_fields = ['query', 'Z', 'proto', 'qtype_name', 'cluster']\n",
    "for key, group in cluster_groups:\n",
    "    print('\\nCluster {:d}: {:d} observations'.format(key, len(group)))\n",
    "    print(group[show_fields].head())"
   ]
  },
  {
   "cell_type": "markdown",
   "metadata": {
    "deletable": true,
    "editable": true
   },
   "source": [
    "<div style=\"float: right; margin: 50px 0px 0px 0px\"><img src=\"https://www.kitware.com/img/small_logo_over.png\"></div>\n",
    "## Wrap Up\n",
    "Well that's it for this notebook, we'll have an upcoming notebook that addresses some of the issues that we overlooked in this simple example. We use Isolation Forest for anomaly detection which works well for high dimensional data. The notebook will cover both training and streaming evalution against the model.\n",
    "\n",
    "If you liked this notebook please visit the [BroThon](https://github.com/Kitware/BroThon) project for more notebooks and examples."
   ]
  }
 ],
 "metadata": {
  "kernelspec": {
   "display_name": "Python 3",
   "language": "python",
   "name": "python3"
  },
  "language_info": {
   "codemirror_mode": {
    "name": "ipython",
    "version": 3
   },
   "file_extension": ".py",
   "mimetype": "text/x-python",
   "name": "python",
   "nbconvert_exporter": "python",
   "pygments_lexer": "ipython3",
   "version": "3.6.0"
  }
 },
 "nbformat": 4,
 "nbformat_minor": 2
}
