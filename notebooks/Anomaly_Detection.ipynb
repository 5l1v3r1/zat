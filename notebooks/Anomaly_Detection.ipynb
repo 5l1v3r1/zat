{
 "cells": [
  {
   "cell_type": "markdown",
   "metadata": {
    "deletable": true,
    "editable": true
   },
   "source": [
    "<div style=\"float: right; margin: 0px 0px 0px 0px\"><img src=\"images/fish.jpg\" width=\"280px\"></div>\n",
    "\n",
    "## Anomaly Exploration (understanding 'Odd')\n",
    "In this notebook we're going to be using the BroThon Python module for processing, transformation and anomaly detection on Bro IDS data. We're going to look at 'normal' http traffic and demonstrate the use of Isolation Forests for anomaly detection. We'll then explore those anomalies with clustering and PCA.\n",
    "\n",
    "**Software**\n",
    "- BroThon: https://github.com/Kitware/BroThon\n",
    "- Pandas: https://github.com/pandas-dev/pandas\n",
    "- Scikit-Learn: http://scikit-learn.org/stable/index.html\n",
    "\n",
    "**Techniques**\n",
    "- One Hot Encoding: http://pandas.pydata.org/pandas-docs/stable/generated/pandas.get_dummies.html\n",
    "- Isolation Forest: http://scikit-learn.org/stable/modules/generated/sklearn.ensemble.IsolationForest.html\n",
    "- PCA: http://scikit-learn.org/stable/modules/generated/sklearn.decomposition.PCA.html\n",
    "\n",
    "**Related Notebooks**\n",
    "- BroThon Scikit-Learn: https://github.com/Kitware/BroThon/blob/master/notebooks/Bro_IDS_to_Scikit_Learn.ipynb\n",
    "<div style=\"float: right; margin: 20px 20px 20px 20px\"><img src=\"https://www.kitware.com/img/small_logo_over.png\"></div>\n",
    "\n",
    "**Note:** A previous version of this notebook used on a large http log (1 million rows) but we wanted people to be able to run the notebook themselves, so we've changed it to run on the local example http.log."
   ]
  },
  {
   "cell_type": "code",
   "execution_count": 18,
   "metadata": {
    "collapsed": false,
    "deletable": true,
    "editable": true
   },
   "outputs": [
    {
     "name": "stdout",
     "output_type": "stream",
     "text": [
      "BroThon: 0.2.1\n",
      "Pandas: 0.19.2\n",
      "Numpy: 1.12.1\n",
      "Scikit Learn Version: 0.18.1\n"
     ]
    }
   ],
   "source": [
    "import brothon\n",
    "from brothon import bro_log_reader\n",
    "from brothon.analysis import dataframe_to_matrix\n",
    "print('BroThon: {:s}'.format(brothon.__version__))\n",
    "import pandas as pd\n",
    "print('Pandas: {:s}'.format(pd.__version__))\n",
    "import numpy as np\n",
    "print('Numpy: {:s}'.format(np.__version__))\n",
    "import sklearn\n",
    "from sklearn.ensemble import IsolationForest\n",
    "from sklearn.decomposition import PCA\n",
    "from sklearn.cluster import KMeans\n",
    "print('Scikit Learn Version:', sklearn.__version__)"
   ]
  },
  {
   "cell_type": "code",
   "execution_count": 19,
   "metadata": {
    "collapsed": false,
    "deletable": true,
    "editable": true
   },
   "outputs": [
    {
     "name": "stdout",
     "output_type": "stream",
     "text": [
      "Successfully monitoring ../data/http.log...\n",
      "Read in 150 Rows...\n"
     ]
    },
    {
     "data": {
      "text/html": [
       "<div>\n",
       "<table border=\"1\" class=\"dataframe\">\n",
       "  <thead>\n",
       "    <tr style=\"text-align: right;\">\n",
       "      <th></th>\n",
       "      <th>filename</th>\n",
       "      <th>host</th>\n",
       "      <th>id.orig_h</th>\n",
       "      <th>id.orig_p</th>\n",
       "      <th>id.resp_h</th>\n",
       "      <th>id.resp_p</th>\n",
       "      <th>info_code</th>\n",
       "      <th>info_msg</th>\n",
       "      <th>method</th>\n",
       "      <th>orig_fuids</th>\n",
       "      <th>...</th>\n",
       "      <th>response_body_len</th>\n",
       "      <th>status_code</th>\n",
       "      <th>status_msg</th>\n",
       "      <th>tags</th>\n",
       "      <th>trans_depth</th>\n",
       "      <th>ts</th>\n",
       "      <th>uid</th>\n",
       "      <th>uri</th>\n",
       "      <th>user_agent</th>\n",
       "      <th>username</th>\n",
       "    </tr>\n",
       "  </thead>\n",
       "  <tbody>\n",
       "    <tr>\n",
       "      <th>0</th>\n",
       "      <td>-</td>\n",
       "      <td>guyspy.com</td>\n",
       "      <td>192.168.33.10</td>\n",
       "      <td>1031</td>\n",
       "      <td>54.245.228.191</td>\n",
       "      <td>80</td>\n",
       "      <td>-</td>\n",
       "      <td>-</td>\n",
       "      <td>GET</td>\n",
       "      <td>-</td>\n",
       "      <td>...</td>\n",
       "      <td>184</td>\n",
       "      <td>301</td>\n",
       "      <td>Moved Permanently</td>\n",
       "      <td>(empty)</td>\n",
       "      <td>1</td>\n",
       "      <td>2013-09-15 19:44:27.668082</td>\n",
       "      <td>CyIaMO7IheOh38Zsi</td>\n",
       "      <td>/</td>\n",
       "      <td>Mozilla/4.0 (compatible; MSIE 8.0; Windows NT ...</td>\n",
       "      <td>-</td>\n",
       "    </tr>\n",
       "    <tr>\n",
       "      <th>1</th>\n",
       "      <td>-</td>\n",
       "      <td>www.guyspy.com</td>\n",
       "      <td>192.168.33.10</td>\n",
       "      <td>1032</td>\n",
       "      <td>54.245.228.191</td>\n",
       "      <td>80</td>\n",
       "      <td>-</td>\n",
       "      <td>-</td>\n",
       "      <td>GET</td>\n",
       "      <td>-</td>\n",
       "      <td>...</td>\n",
       "      <td>100631</td>\n",
       "      <td>200</td>\n",
       "      <td>OK</td>\n",
       "      <td>(empty)</td>\n",
       "      <td>1</td>\n",
       "      <td>2013-09-15 19:44:27.731702</td>\n",
       "      <td>CoyZrY2g74UvMMgp4a</td>\n",
       "      <td>/</td>\n",
       "      <td>Mozilla/4.0 (compatible; MSIE 8.0; Windows NT ...</td>\n",
       "      <td>-</td>\n",
       "    </tr>\n",
       "    <tr>\n",
       "      <th>2</th>\n",
       "      <td>-</td>\n",
       "      <td>www.guyspy.com</td>\n",
       "      <td>192.168.33.10</td>\n",
       "      <td>1032</td>\n",
       "      <td>54.245.228.191</td>\n",
       "      <td>80</td>\n",
       "      <td>-</td>\n",
       "      <td>-</td>\n",
       "      <td>GET</td>\n",
       "      <td>-</td>\n",
       "      <td>...</td>\n",
       "      <td>55817</td>\n",
       "      <td>404</td>\n",
       "      <td>Not Found</td>\n",
       "      <td>(empty)</td>\n",
       "      <td>2</td>\n",
       "      <td>2013-09-15 19:44:28.092922</td>\n",
       "      <td>CoyZrY2g74UvMMgp4a</td>\n",
       "      <td>/wp-content/plugins/slider-pro/css/advanced-sl...</td>\n",
       "      <td>Mozilla/4.0 (compatible; MSIE 8.0; Windows NT ...</td>\n",
       "      <td>-</td>\n",
       "    </tr>\n",
       "    <tr>\n",
       "      <th>3</th>\n",
       "      <td>-</td>\n",
       "      <td>www.guyspy.com</td>\n",
       "      <td>192.168.33.10</td>\n",
       "      <td>1040</td>\n",
       "      <td>54.245.228.191</td>\n",
       "      <td>80</td>\n",
       "      <td>-</td>\n",
       "      <td>-</td>\n",
       "      <td>GET</td>\n",
       "      <td>-</td>\n",
       "      <td>...</td>\n",
       "      <td>887</td>\n",
       "      <td>200</td>\n",
       "      <td>OK</td>\n",
       "      <td>(empty)</td>\n",
       "      <td>1</td>\n",
       "      <td>2013-09-15 19:44:28.150301</td>\n",
       "      <td>CiCKTz4e0fkYYazBS3</td>\n",
       "      <td>/wp-content/plugins/contact-form-7/includes/cs...</td>\n",
       "      <td>Mozilla/4.0 (compatible; MSIE 8.0; Windows NT ...</td>\n",
       "      <td>-</td>\n",
       "    </tr>\n",
       "    <tr>\n",
       "      <th>4</th>\n",
       "      <td>-</td>\n",
       "      <td>www.guyspy.com</td>\n",
       "      <td>192.168.33.10</td>\n",
       "      <td>1041</td>\n",
       "      <td>54.245.228.191</td>\n",
       "      <td>80</td>\n",
       "      <td>-</td>\n",
       "      <td>-</td>\n",
       "      <td>GET</td>\n",
       "      <td>-</td>\n",
       "      <td>...</td>\n",
       "      <td>10068</td>\n",
       "      <td>200</td>\n",
       "      <td>OK</td>\n",
       "      <td>(empty)</td>\n",
       "      <td>1</td>\n",
       "      <td>2013-09-15 19:44:28.150602</td>\n",
       "      <td>C1YBkC1uuO9bzndRvh</td>\n",
       "      <td>/wp-content/plugins/slider-pro/css/slider/adva...</td>\n",
       "      <td>Mozilla/4.0 (compatible; MSIE 8.0; Windows NT ...</td>\n",
       "      <td>-</td>\n",
       "    </tr>\n",
       "  </tbody>\n",
       "</table>\n",
       "<p>5 rows × 27 columns</p>\n",
       "</div>"
      ],
      "text/plain": [
       "  filename            host      id.orig_h  id.orig_p       id.resp_h  id.resp_p info_code info_msg method orig_fuids   ...    response_body_len status_code         status_msg     tags  trans_depth                         ts                 uid                                                uri                                         user_agent username\n",
       "0        -      guyspy.com  192.168.33.10       1031  54.245.228.191         80         -        -    GET          -   ...                  184         301  Moved Permanently  (empty)            1 2013-09-15 19:44:27.668082   CyIaMO7IheOh38Zsi                                                  /  Mozilla/4.0 (compatible; MSIE 8.0; Windows NT ...        -\n",
       "1        -  www.guyspy.com  192.168.33.10       1032  54.245.228.191         80         -        -    GET          -   ...               100631         200                 OK  (empty)            1 2013-09-15 19:44:27.731702  CoyZrY2g74UvMMgp4a                                                  /  Mozilla/4.0 (compatible; MSIE 8.0; Windows NT ...        -\n",
       "2        -  www.guyspy.com  192.168.33.10       1032  54.245.228.191         80         -        -    GET          -   ...                55817         404          Not Found  (empty)            2 2013-09-15 19:44:28.092922  CoyZrY2g74UvMMgp4a  /wp-content/plugins/slider-pro/css/advanced-sl...  Mozilla/4.0 (compatible; MSIE 8.0; Windows NT ...        -\n",
       "3        -  www.guyspy.com  192.168.33.10       1040  54.245.228.191         80         -        -    GET          -   ...                  887         200                 OK  (empty)            1 2013-09-15 19:44:28.150301  CiCKTz4e0fkYYazBS3  /wp-content/plugins/contact-form-7/includes/cs...  Mozilla/4.0 (compatible; MSIE 8.0; Windows NT ...        -\n",
       "4        -  www.guyspy.com  192.168.33.10       1041  54.245.228.191         80         -        -    GET          -   ...                10068         200                 OK  (empty)            1 2013-09-15 19:44:28.150602  C1YBkC1uuO9bzndRvh  /wp-content/plugins/slider-pro/css/slider/adva...  Mozilla/4.0 (compatible; MSIE 8.0; Windows NT ...        -\n",
       "\n",
       "[5 rows x 27 columns]"
      ]
     },
     "execution_count": 19,
     "metadata": {},
     "output_type": "execute_result"
    }
   ],
   "source": [
    "# Load in the Bro IDS dns logs\n",
    "reader = bro_log_reader.BroLogReader('../data/http.log')\n",
    "\n",
    "# Create a Pandas dataframe from reader\n",
    "bro_df = pd.DataFrame(reader.readrows())\n",
    "print('Read in {:d} Rows...'.format(len(bro_df)))\n",
    "bro_df.head()"
   ]
  },
  {
   "cell_type": "markdown",
   "metadata": {
    "deletable": true,
    "editable": true
   },
   "source": [
    "<div style=\"float: left; margin: 20px -10px 0px -40px\"><img src=\"images/confused.jpg\" width=\"200px\"></div>\n",
    "<div style=\"float: right; margin: 20px -10px 0px -10px\"><img src=\"images/pandas.png\" width=\"300px\"></div>\n",
    "## So... what just happened?\n",
    "**Yep it was quick... the two little lines of code above turned a Bro IDS log (any log) into a Pandas DataFrame. The BroThon package also supports streaming data from dynamic/active logs, handles log rotations and in general tries to make your life a bit easier when doing data analysis and machine learning on Bro data.**\n",
    "\n",
    "**Now that we have the data in a dataframe there are a million wonderful things we could do for data munging, processing and analysis but that will have to wait for another time/notebook.**"
   ]
  },
  {
   "cell_type": "code",
   "execution_count": 20,
   "metadata": {
    "collapsed": false,
    "deletable": true,
    "editable": true
   },
   "outputs": [],
   "source": [
    "# We're going to pick some features that might be interesting\n",
    "# some of the features are numerical and some are categorical\n",
    "features = ['id.resp_p', 'method', 'resp_mime_types', 'request_body_len']"
   ]
  },
  {
   "cell_type": "markdown",
   "metadata": {
    "deletable": true,
    "editable": true
   },
   "source": [
    "## Our HTTP features are a mix of numeric and categorical data\n",
    "When we look at the http records some of the data is numerical and some of it is categorical so we'll need a way of handling both data types in a generalized way. BroThon has a DataFrameToMatrix class that handles a lot of the details and mechanics of combining numerical and categorical data, we'll use below."
   ]
  },
  {
   "cell_type": "code",
   "execution_count": 21,
   "metadata": {
    "collapsed": false,
    "deletable": true,
    "editable": true
   },
   "outputs": [
    {
     "data": {
      "text/html": [
       "<div>\n",
       "<table border=\"1\" class=\"dataframe\">\n",
       "  <thead>\n",
       "    <tr style=\"text-align: right;\">\n",
       "      <th></th>\n",
       "      <th>id.resp_p</th>\n",
       "      <th>method</th>\n",
       "      <th>resp_mime_types</th>\n",
       "      <th>request_body_len</th>\n",
       "    </tr>\n",
       "  </thead>\n",
       "  <tbody>\n",
       "    <tr>\n",
       "      <th>0</th>\n",
       "      <td>80</td>\n",
       "      <td>GET</td>\n",
       "      <td>text/html</td>\n",
       "      <td>0</td>\n",
       "    </tr>\n",
       "    <tr>\n",
       "      <th>1</th>\n",
       "      <td>80</td>\n",
       "      <td>GET</td>\n",
       "      <td>text/html</td>\n",
       "      <td>0</td>\n",
       "    </tr>\n",
       "    <tr>\n",
       "      <th>2</th>\n",
       "      <td>80</td>\n",
       "      <td>GET</td>\n",
       "      <td>text/html</td>\n",
       "      <td>0</td>\n",
       "    </tr>\n",
       "    <tr>\n",
       "      <th>3</th>\n",
       "      <td>80</td>\n",
       "      <td>GET</td>\n",
       "      <td>text/plain</td>\n",
       "      <td>0</td>\n",
       "    </tr>\n",
       "    <tr>\n",
       "      <th>4</th>\n",
       "      <td>80</td>\n",
       "      <td>GET</td>\n",
       "      <td>text/plain</td>\n",
       "      <td>0</td>\n",
       "    </tr>\n",
       "  </tbody>\n",
       "</table>\n",
       "</div>"
      ],
      "text/plain": [
       "   id.resp_p method resp_mime_types  request_body_len\n",
       "0         80    GET       text/html                 0\n",
       "1         80    GET       text/html                 0\n",
       "2         80    GET       text/html                 0\n",
       "3         80    GET      text/plain                 0\n",
       "4         80    GET      text/plain                 0"
      ]
     },
     "execution_count": 21,
     "metadata": {},
     "output_type": "execute_result"
    }
   ],
   "source": [
    "# Show the dataframe with mixed feature types\n",
    "bro_df[features].head()"
   ]
  },
  {
   "cell_type": "markdown",
   "metadata": {
    "deletable": true,
    "editable": true
   },
   "source": [
    "<div style=\"float: right; margin: -10px 40px -10px 40px\"><img src=\"images/transformers.png\" width=\"200px\"></div>\n",
    "## Transformers\n",
    "**We'll now use a scikit-learn tranformer class to convert the Pandas DataFrame to a numpy ndarray (matrix). Yes it's awesome... I'm not sure it's Optimus Prime awesome.. but it's still pretty nice.**"
   ]
  },
  {
   "cell_type": "code",
   "execution_count": 22,
   "metadata": {
    "collapsed": false,
    "deletable": true,
    "editable": true
   },
   "outputs": [
    {
     "name": "stdout",
     "output_type": "stream",
     "text": [
      "Changing column method to category...\n",
      "Changing column resp_mime_types to category...\n",
      "Normalizing column id.resp_p...\n",
      "Normalizing column request_body_len...\n",
      "(150, 12)\n"
     ]
    },
    {
     "data": {
      "text/plain": [
       "array([[ 0.,  0.,  1.,  0.,  0.,  0.,  0.,  0.,  0.,  0.,  1.,  0.]])"
      ]
     },
     "execution_count": 22,
     "metadata": {},
     "output_type": "execute_result"
    }
   ],
   "source": [
    "# Use the BroThon DataframeToMatrix class (handles categorical data)\n",
    "# You can see below it uses a heuristic to detect category data. When doing\n",
    "# this for real we should explicitly convert before sending to the transformer.\n",
    "to_matrix = dataframe_to_matrix.DataFrameToMatrix()\n",
    "bro_matrix = to_matrix.fit_transform(bro_df[features], normalize=True)\n",
    "print(bro_matrix.shape)\n",
    "bro_matrix[:1]"
   ]
  },
  {
   "cell_type": "code",
   "execution_count": 23,
   "metadata": {
    "collapsed": false,
    "deletable": true,
    "editable": true
   },
   "outputs": [
    {
     "data": {
      "text/plain": [
       "IsolationForest(bootstrap=False, contamination=0.2, max_features=1.0,\n",
       "        max_samples='auto', n_estimators=100, n_jobs=1, random_state=None,\n",
       "        verbose=0)"
      ]
     },
     "execution_count": 23,
     "metadata": {},
     "output_type": "execute_result"
    }
   ],
   "source": [
    "# Train/fit and Predict anomalous instances using the Isolation Forest model\n",
    "odd_clf = IsolationForest(contamination=0.20) # Marking 20% odd\n",
    "odd_clf.fit(bro_matrix)"
   ]
  },
  {
   "cell_type": "code",
   "execution_count": 24,
   "metadata": {
    "collapsed": false,
    "deletable": true,
    "editable": true
   },
   "outputs": [
    {
     "name": "stdout",
     "output_type": "stream",
     "text": [
      "(32, 4)\n"
     ]
    },
    {
     "data": {
      "text/html": [
       "<div>\n",
       "<table border=\"1\" class=\"dataframe\">\n",
       "  <thead>\n",
       "    <tr style=\"text-align: right;\">\n",
       "      <th></th>\n",
       "      <th>id.resp_p</th>\n",
       "      <th>method</th>\n",
       "      <th>resp_mime_types</th>\n",
       "      <th>request_body_len</th>\n",
       "    </tr>\n",
       "  </thead>\n",
       "  <tbody>\n",
       "    <tr>\n",
       "      <th>106</th>\n",
       "      <td>80</td>\n",
       "      <td>GET</td>\n",
       "      <td>application/x-dosexec</td>\n",
       "      <td>0</td>\n",
       "    </tr>\n",
       "    <tr>\n",
       "      <th>107</th>\n",
       "      <td>80</td>\n",
       "      <td>GET</td>\n",
       "      <td>application/x-dosexec</td>\n",
       "      <td>0</td>\n",
       "    </tr>\n",
       "    <tr>\n",
       "      <th>109</th>\n",
       "      <td>80</td>\n",
       "      <td>GET</td>\n",
       "      <td>application/x-dosexec</td>\n",
       "      <td>0</td>\n",
       "    </tr>\n",
       "    <tr>\n",
       "      <th>112</th>\n",
       "      <td>80</td>\n",
       "      <td>GET</td>\n",
       "      <td>application/x-dosexec</td>\n",
       "      <td>0</td>\n",
       "    </tr>\n",
       "    <tr>\n",
       "      <th>113</th>\n",
       "      <td>80</td>\n",
       "      <td>GET</td>\n",
       "      <td>application/x-dosexec</td>\n",
       "      <td>0</td>\n",
       "    </tr>\n",
       "  </tbody>\n",
       "</table>\n",
       "</div>"
      ],
      "text/plain": [
       "     id.resp_p method        resp_mime_types  request_body_len\n",
       "106         80    GET  application/x-dosexec                 0\n",
       "107         80    GET  application/x-dosexec                 0\n",
       "109         80    GET  application/x-dosexec                 0\n",
       "112         80    GET  application/x-dosexec                 0\n",
       "113         80    GET  application/x-dosexec                 0"
      ]
     },
     "execution_count": 24,
     "metadata": {},
     "output_type": "execute_result"
    }
   ],
   "source": [
    "# Now we create a new dataframe using the prediction from our classifier\n",
    "odd_df = bro_df[features][odd_clf.predict(bro_matrix) == -1]\n",
    "print(odd_df.shape)\n",
    "odd_df.head()"
   ]
  },
  {
   "cell_type": "code",
   "execution_count": 25,
   "metadata": {
    "collapsed": false,
    "deletable": true,
    "editable": true
   },
   "outputs": [
    {
     "name": "stdout",
     "output_type": "stream",
     "text": [
      "Changing column method to category...\n",
      "Changing column resp_mime_types to category...\n",
      "Normalizing column id.resp_p...\n",
      "Normalizing column request_body_len...\n"
     ]
    }
   ],
   "source": [
    "# Now we're going to explore our odd dataframe with help from KMeans and PCA algorithms\n",
    "odd_matrix = to_matrix.fit_transform(odd_df)"
   ]
  },
  {
   "cell_type": "code",
   "execution_count": 51,
   "metadata": {
    "collapsed": false,
    "deletable": true,
    "editable": true
   },
   "outputs": [
    {
     "data": {
      "text/html": [
       "<div>\n",
       "<table border=\"1\" class=\"dataframe\">\n",
       "  <thead>\n",
       "    <tr style=\"text-align: right;\">\n",
       "      <th></th>\n",
       "      <th>id.resp_p</th>\n",
       "      <th>method</th>\n",
       "      <th>resp_mime_types</th>\n",
       "      <th>request_body_len</th>\n",
       "      <th>x</th>\n",
       "      <th>y</th>\n",
       "      <th>cluster</th>\n",
       "      <th>jx</th>\n",
       "      <th>jy</th>\n",
       "    </tr>\n",
       "  </thead>\n",
       "  <tbody>\n",
       "    <tr>\n",
       "      <th>106</th>\n",
       "      <td>80</td>\n",
       "      <td>GET</td>\n",
       "      <td>application/x-dosexec</td>\n",
       "      <td>0</td>\n",
       "      <td>1.112838</td>\n",
       "      <td>-0.615774</td>\n",
       "      <td>1</td>\n",
       "      <td>1.141523</td>\n",
       "      <td>-0.584977</td>\n",
       "    </tr>\n",
       "    <tr>\n",
       "      <th>107</th>\n",
       "      <td>80</td>\n",
       "      <td>GET</td>\n",
       "      <td>application/x-dosexec</td>\n",
       "      <td>0</td>\n",
       "      <td>1.112838</td>\n",
       "      <td>-0.615774</td>\n",
       "      <td>1</td>\n",
       "      <td>1.123014</td>\n",
       "      <td>-0.625123</td>\n",
       "    </tr>\n",
       "    <tr>\n",
       "      <th>109</th>\n",
       "      <td>80</td>\n",
       "      <td>GET</td>\n",
       "      <td>application/x-dosexec</td>\n",
       "      <td>0</td>\n",
       "      <td>1.112838</td>\n",
       "      <td>-0.615774</td>\n",
       "      <td>1</td>\n",
       "      <td>1.062836</td>\n",
       "      <td>-0.628884</td>\n",
       "    </tr>\n",
       "    <tr>\n",
       "      <th>112</th>\n",
       "      <td>80</td>\n",
       "      <td>GET</td>\n",
       "      <td>application/x-dosexec</td>\n",
       "      <td>0</td>\n",
       "      <td>1.112838</td>\n",
       "      <td>-0.615774</td>\n",
       "      <td>1</td>\n",
       "      <td>1.091032</td>\n",
       "      <td>-0.634415</td>\n",
       "    </tr>\n",
       "    <tr>\n",
       "      <th>113</th>\n",
       "      <td>80</td>\n",
       "      <td>GET</td>\n",
       "      <td>application/x-dosexec</td>\n",
       "      <td>0</td>\n",
       "      <td>1.112838</td>\n",
       "      <td>-0.615774</td>\n",
       "      <td>1</td>\n",
       "      <td>1.126262</td>\n",
       "      <td>-0.623494</td>\n",
       "    </tr>\n",
       "  </tbody>\n",
       "</table>\n",
       "</div>"
      ],
      "text/plain": [
       "     id.resp_p method        resp_mime_types  request_body_len         x         y  cluster        jx        jy\n",
       "106         80    GET  application/x-dosexec                 0  1.112838 -0.615774        1  1.141523 -0.584977\n",
       "107         80    GET  application/x-dosexec                 0  1.112838 -0.615774        1  1.123014 -0.625123\n",
       "109         80    GET  application/x-dosexec                 0  1.112838 -0.615774        1  1.062836 -0.628884\n",
       "112         80    GET  application/x-dosexec                 0  1.112838 -0.615774        1  1.091032 -0.634415\n",
       "113         80    GET  application/x-dosexec                 0  1.112838 -0.615774        1  1.126262 -0.623494"
      ]
     },
     "execution_count": 51,
     "metadata": {},
     "output_type": "execute_result"
    }
   ],
   "source": [
    "# Just some simple stuff for this example, KMeans and PCA\n",
    "kmeans = KMeans(n_clusters=4).fit_predict(odd_matrix)  # For fun change this to 3 or 5 and see what happens...\n",
    "pca = PCA(n_components=3).fit_transform(odd_matrix)\n",
    "\n",
    "# Now we can put our ML results back onto our dataframe!\n",
    "odd_df['x'] = pca[:, 0] # PCA X Column\n",
    "odd_df['y'] = pca[:, 1] # PCA Y Column\n",
    "odd_df['cluster'] = kmeans\n",
    "odd_df.head()"
   ]
  },
  {
   "cell_type": "code",
   "execution_count": 52,
   "metadata": {
    "collapsed": true,
    "deletable": true,
    "editable": true
   },
   "outputs": [],
   "source": [
    "# Plotting defaults\n",
    "%matplotlib inline\n",
    "import matplotlib.pyplot as plt\n",
    "plt.rcParams['font.size'] = 14.0\n",
    "plt.rcParams['figure.figsize'] = 15.0, 6.0\n",
    "\n",
    "# Helper method for scatter/beeswarm plot\n",
    "def jitter(arr):\n",
    "    stdev = .02*(max(arr)-min(arr))\n",
    "    return arr + np.random.randn(len(arr)) * stdev"
   ]
  },
  {
   "cell_type": "code",
   "execution_count": 53,
   "metadata": {
    "collapsed": false,
    "deletable": true,
    "editable": true
   },
   "outputs": [
    {
     "data": {
      "image/png": "[encoded data removed]",
      "text/plain": [
       "<matplotlib.figure.Figure at 0x112c66be0>"
      ]
     },
     "metadata": {},
     "output_type": "display_data"
    }
   ],
   "source": [
    "# Jitter so we can see instances that are projected coincident in 2D\n",
    "odd_df['jx'] = jitter(odd_df['x'])\n",
    "odd_df['jy'] = jitter(odd_df['y'])\n",
    "\n",
    "# Now use dataframe group by cluster\n",
    "cluster_groups = odd_df.groupby('cluster')\n",
    "\n",
    "# Plot the Machine Learning results\n",
    "colors = {0:'green', 1:'blue', 2:'red', 3:'orange', 4:'purple', 5:'brown'}\n",
    "fig, ax = plt.subplots()\n",
    "for key, group in cluster_groups:\n",
    "    group.plot(ax=ax, kind='scatter', x='jx', y='jy', alpha=0.5, s=250,\n",
    "               label='Cluster: {:d}'.format(key), color=colors[key])"
   ]
  },
  {
   "cell_type": "code",
   "execution_count": 54,
   "metadata": {
    "collapsed": false,
    "deletable": true,
    "editable": true
   },
   "outputs": [
    {
     "name": "stdout",
     "output_type": "stream",
     "text": [
      "\n",
      "Cluster 0: 10 observations\n",
      "     id.resp_p method resp_mime_types  request_body_len\n",
      "140         80   POST      text/plain             69823\n",
      "141         80   POST      text/plain             69993\n",
      "142         80   POST      text/plain             71993\n",
      "143         80   POST      text/plain             70993\n",
      "144         80   POST      text/plain             72993\n",
      "\n",
      "Cluster 1: 8 observations\n",
      "     id.resp_p method        resp_mime_types  request_body_len\n",
      "106         80    GET  application/x-dosexec                 0\n",
      "107         80    GET  application/x-dosexec                 0\n",
      "109         80    GET  application/x-dosexec                 0\n",
      "112         80    GET  application/x-dosexec                 0\n",
      "113         80    GET  application/x-dosexec                 0\n",
      "\n",
      "Cluster 2: 7 observations\n",
      "     id.resp_p   method resp_mime_types  request_body_len\n",
      "133         80  OPTIONS      text/plain                 0\n",
      "134         80  OPTIONS      text/plain                 0\n",
      "135         80  OPTIONS      text/plain                 0\n",
      "136         80  OPTIONS      text/plain                 0\n",
      "137         80  OPTIONS      text/plain                 0\n",
      "\n",
      "Cluster 3: 7 observations\n",
      "     id.resp_p method resp_mime_types  request_body_len\n",
      "126       8080    GET      text/plain                 0\n",
      "127       8080    GET      text/plain                 0\n",
      "128       8080    GET      text/plain                 0\n",
      "129       8080    GET      text/plain                 0\n",
      "130       8080    GET      text/plain                 0\n"
     ]
    }
   ],
   "source": [
    "# Now print out the details for each cluster\n",
    "pd.set_option('display.width', 1000)\n",
    "for key, group in cluster_groups:\n",
    "    print('\\nCluster {:d}: {:d} observations'.format(key, len(group)))\n",
    "    print(group[features].head())"
   ]
  },
  {
   "cell_type": "markdown",
   "metadata": {
    "deletable": true,
    "editable": true
   },
   "source": [
    "#### <div style=\"float: right; margin: 10px 10px 10px 10px\"><img src=\"images/deep_dive.jpeg\" width=\"250px\"></div>\n",
    "## Categorical variables that are anomalous\n",
    "- Cluster 1: application/x-dosexec mime_types\n",
    "- Cluster 2: response port of 8080 (instead of 80)\n",
    "- Cluster 3: http method of OPTIONS (instead of normal GET/POST)\n",
    "\n",
    "## Numerical variable outliers\n",
    "- Cluster 0: The request_body_len values are outliers (for this demo dataset)\n",
    "\n",
    "**The important thing here is that both categorical and numerical variables were properly handled and the machine learning algorithm 'did the right thing' when marking outliers (for categorical and numerical fields)**"
   ]
  },
  {
   "cell_type": "code",
   "execution_count": 60,
   "metadata": {
    "collapsed": false
   },
   "outputs": [
    {
     "name": "stdout",
     "output_type": "stream",
     "text": [
      "For this small demo dataset almost all request_body_len are 0... Cluster 0 represents outliers\n"
     ]
    },
    {
     "data": {
      "image/png": "[encoded data removed]",
      "text/plain": [
       "<matplotlib.figure.Figure at 0x1125b6b38>"
      ]
     },
     "metadata": {},
     "output_type": "display_data"
    }
   ],
   "source": [
    "# Distribution of the request body length\n",
    "bro_df[['request_body_len']].boxplot()\n",
    "print('For this small demo dataset almost all request_body_len are 0... Cluster 0 represents outliers')"
   ]
  },
  {
   "cell_type": "markdown",
   "metadata": {
    "deletable": true,
    "editable": true
   },
   "source": [
    "<div style=\"float: right; margin: 20px 20px 20px 20px\"><img src=\"images/why_normal.jpg\" width=\"200px\"></div>\n",
    "\n",
    "## The anomalies identified by the model might be fine/expected\n",
    "Looking at the anomalous clusters for this small demo http log reveals four clusters that may be perfectly fine.  So\n",
    "here we're not equating anomalous with 'bad'. The use of an anomaly detection algorithm can bring latent issues to the attention of threat hunters and system administrations. The results might be expected or a misconfigured appliance or something more nefarious that needs attention from security.\n",
    "\n",
    "\n",
    "If you liked this notebook please visit the [BroThon](https://github.com/Kitware/BroThon) project for more notebooks and examples.\n",
    "<div style=\"float: right; margin: 20px 20px 20px 20px\"><img src=\"https://www.kitware.com/img/small_logo_over.png\"></div>"
   ]
  }
 ],
 "metadata": {
  "kernelspec": {
   "display_name": "Python 3",
   "language": "python",
   "name": "python3"
  },
  "language_info": {
   "codemirror_mode": {
    "name": "ipython",
    "version": 3
   },
   "file_extension": ".py",
   "mimetype": "text/x-python",
   "name": "python",
   "nbconvert_exporter": "python",
   "pygments_lexer": "ipython3",
   "version": "3.6.0"
  }
 },
 "nbformat": 4,
 "nbformat_minor": 2
}
