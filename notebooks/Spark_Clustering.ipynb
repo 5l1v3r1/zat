{
 "cells": [
  {
   "cell_type": "markdown",
   "metadata": {},
   "source": [
    "<div style=\"float: right; margin: 20px 20px 20px 20px\"><img src=\"images/bro.png\" width=\"100px\"></div>\n",
    "\n",
    "# Zeek to Spark Clustering\n",
    "In this notebook we will pull Bro data into Spark then do some analysis and clustering. The first step is to convert your Zeek log data into a Parquet file, for instructions on how to do this (just a few lines of Python code using the BAT package) please see this notebook:\n",
    "\n",
    "<div style=\"float: right; margin: 0px 0px 0px 0px\"><img src=\"images/parquet.png\" width=\"300px\"></div>\n",
    "\n",
    "### How to convert Zeek log to Parquet Notebook\n",
    "- [Bro to Spark (and Parquet)](https://nbviewer.jupyter.org/github/SuperCowPowers/bat/blob/master/notebooks/Bro_to_Spark.ipynb)\n",
    "\n",
    "Apache Parquet is a columnar storage format focused on performance. Parquet data is often used within the Hadoop ecosystem and we will specifically be using it for loading data into Spark.\n",
    "\n",
    "<div style=\"float: right; margin: 0px 0px 0px 0px\"><img src=\"images/mllib.png\" width=\"200px\"></div>\n",
    "<div style=\"float: right; margin: 30px 0px 0px 0px\"><img src=\"images/spark.png\" width=\"200px\"></div>\n",
    "\n",
    "### Software\n",
    "- Zeek/Bro Analysis Tools (BAT): https://github.com/SuperCowPowers/bat\n",
    "- Parquet: https://parquet.apache.org\n",
    "- Spark: https://spark.apache.org\n",
    "- Spark MLLib: https://spark.apache.org/mllib/\n",
    "\n",
    "### Data\n",
    "- About 1/2 million rows of a Zeek dns.log\n",
    "- Sec Repo: http://www.secrepo.com (no headers on these)\n",
    "- SuperCowPowers: [data.kitware.com](https://data.kitware.com/#collection/58d564478d777f0aef5d893a) (with headers)"
   ]
  },
  {
   "cell_type": "code",
   "execution_count": 1,
   "metadata": {},
   "outputs": [
    {
     "name": "stdout",
     "output_type": "stream",
     "text": [
      "BAT: 0.3.7\n",
      "PySpark: 2.4.4\n"
     ]
    }
   ],
   "source": [
    "# Third Party Imports\n",
    "import pyspark\n",
    "from pyspark.sql import SparkSession\n",
    "\n",
    "# Local imports\n",
    "import bat\n",
    "\n",
    "# Good to print out versions of stuff\n",
    "print('BAT: {:s}'.format(bat.__version__))\n",
    "print('PySpark: {:s}'.format(pyspark.__version__))"
   ]
  },
  {
   "cell_type": "markdown",
   "metadata": {},
   "source": [
    "<div style=\"float: right; margin: 20px 20px 20px 20px\"><img src=\"images/spark.png\" width=\"200px\"></div>\n",
    "\n",
    "# Spark It!\n",
    "### Spin up Spark with 4 Parallel Executors\n",
    "Here we're spinning up a local spark server with 4 parallel executors, although this might seem a bit silly since we're probably running this on a laptop, there are a couple of important observations:\n",
    "\n",
    "<div style=\"float: right; margin: 20px 20px 20px 20px\"><img src=\"images/spark_jobs.png\" width=\"400px\"></div>\n",
    "\n",
    "- If you have 4/8 cores use them!\n",
    "- It's the exact same code logic as if we were running on a distributed cluster.\n",
    "- We run the same code on **DataBricks** (www.databricks.com) which is awesome BTW.\n",
    "\n"
   ]
  },
  {
   "cell_type": "code",
   "execution_count": 2,
   "metadata": {},
   "outputs": [],
   "source": [
    "# Spin up a local Spark Session (with 4 executors)\n",
    "spark = SparkSession.builder.master(\"local[4]\").appName('my_awesome').getOrCreate()"
   ]
  },
  {
   "cell_type": "markdown",
   "metadata": {},
   "source": [
    "<div style=\"float: right; margin: 50px 20px 20px 20px\"><img src=\"images/parquet.png\" width=\"350px\"></div>\n",
    "\n",
    "##  Read in our Parquet File\n",
    "Here we're loading in a Bro DNS log with ~1/2 million rows to demonstrate the functionality and do some analysis and clustering on the data. For more information on converting Bro logs to Parquet files please see our Bro to Spark notebook:\n",
    "\n",
    "#### Bro logs to Parquet Notebook\n",
    "- [Bro to Spark (and Parquet)](https://nbviewer.jupyter.org/github/SuperCowPowers/bat/blob/master/notebooks/Bro_to_Spark.ipynb)"
   ]
  },
  {
   "cell_type": "code",
   "execution_count": 3,
   "metadata": {},
   "outputs": [],
   "source": [
    "# Have Spark read in the Parquet File\n",
    "spark_df = spark.read.parquet('/Users/briford/data/bro/dns.parquet')"
   ]
  },
  {
   "cell_type": "markdown",
   "metadata": {},
   "source": [
    "<div style=\"float: left; margin: 20px 20px 20px 20px\"><img src=\"images/eyeball.jpeg\" width=\"150px\"></div>\n",
    "\n",
    "# Lets look at our data\n",
    "We should always inspect out data when it comes in. Look at both the data values and the data types to make sure you're getting exactly what you should be."
   ]
  },
  {
   "cell_type": "code",
   "execution_count": 4,
   "metadata": {},
   "outputs": [
    {
     "name": "stdout",
     "output_type": "stream",
     "text": [
      "Number of Rows: 427935\n",
      "Columns: ts,uid,id.orig_h,id.orig_p,id.resp_h,id.resp_p,proto,trans_id,query,qclass,qclass_name,qtype,qtype_name,rcode,rcode_name,AA,TC,RD,RA,Z,answers,TTLs,rejected\n"
     ]
    }
   ],
   "source": [
    "# Get information about the Spark DataFrame\n",
    "num_rows = spark_df.count()\n",
    "print(\"Number of Rows: {:d}\".format(num_rows))\n",
    "columns = spark_df.columns\n",
    "print(\"Columns: {:s}\".format(','.join(columns)))"
   ]
  },
  {
   "cell_type": "code",
   "execution_count": 5,
   "metadata": {},
   "outputs": [
    {
     "name": "stdout",
     "output_type": "stream",
     "text": [
      "+----------+-----+------+\n",
      "|qtype_name|proto| count|\n",
      "+----------+-----+------+\n",
      "|         A|  udp|212473|\n",
      "|        NB|  udp| 77199|\n",
      "|      AAAA|  udp| 54519|\n",
      "|       PTR|  udp| 52991|\n",
      "|       TXT|  udp| 12644|\n",
      "|       SRV|  udp| 12268|\n",
      "|      null|  udp|  3472|\n",
      "|         *|  udp|   882|\n",
      "|      AXFR|  tcp|   440|\n",
      "|       SOA|  udp|   346|\n",
      "|       TXT|  tcp|   226|\n",
      "|      null|  tcp|   176|\n",
      "|        MX|  udp|   169|\n",
      "|        NS|  udp|    43|\n",
      "|     HINFO|  udp|    30|\n",
      "|     NAPTR|  udp|    27|\n",
      "|       PTR|  tcp|    26|\n",
      "|         A|  tcp|     4|\n",
      "+----------+-----+------+\n",
      "\n"
     ]
    }
   ],
   "source": [
    "spark_df.groupby('qtype_name','proto').count().sort('count', ascending=False).show()"
   ]
  },
  {
   "cell_type": "markdown",
   "metadata": {},
   "source": [
    "<div style=\"float: right; margin: 50px 0px 0px 20px\"><img src=\"images/deep_dive.jpeg\" width=\"350px\"></div>\n",
    "\n",
    "# Data looks good, lets take a deeper dive\n",
    "Spark has a powerful SQL engine as well as a Machine Learning library. So now that we've loaded our Zeek data we're going to utilize the Spark SQL commands to do some investigation of our data including clustering from the MLLib.\n",
    "\n",
    "<div style=\"float: left; margin: 20px 0px 0px 0px\"><img src=\"images/spark_sql.jpg\" width=\"180px\"></div>\n",
    "<div style=\"float: left; margin: 0px 50px 0px 0px\"><img src=\"images/mllib.png\" width=\"180px\"></div>"
   ]
  },
  {
   "cell_type": "code",
   "execution_count": 10,
   "metadata": {},
   "outputs": [],
   "source": [
    "# Plotting defaults\n",
    "%matplotlib inline\n",
    "import matplotlib.pyplot as plt\n",
    "from bat.utils import plot_utils\n",
    "plot_utils.plot_defaults()"
   ]
  },
  {
   "cell_type": "code",
   "execution_count": 11,
   "metadata": {},
   "outputs": [],
   "source": [
    "# Add a column with the string length of the DNS query\n",
    "from pyspark.sql.functions import col, length\n",
    "\n",
    "# Create new dataframe that includes two new column\n",
    "spark_df = spark_df.withColumn('query_length', length(col('query')))\n",
    "spark_df = spark_df.withColumn('answer_length', length(col('answers')))"
   ]
  },
  {
   "cell_type": "code",
   "execution_count": 12,
   "metadata": {},
   "outputs": [
    {
     "data": {
      "text/plain": [
       "Text(0, 0.5, 'Counts')"
      ]
     },
     "execution_count": 12,
     "metadata": {},
     "output_type": "execute_result"
    },
    {
     "data": {
      "image/png": "[encoded data removed]",
      "text/plain": [
       "<Figure size 1152x432 with 1 Axes>"
      ]
     },
     "metadata": {
      "needs_background": "light"
     },
     "output_type": "display_data"
    }
   ],
   "source": [
    "# Show histogram of the Spark DF request body lengths\n",
    "bins, counts = spark_df.select('query_length').rdd.flatMap(lambda x: x).histogram(50)\n",
    "\n",
    "# This is a bit awkward but I believe this is the correct way to do it\n",
    "plt.hist(bins[:-1], bins=bins, weights=counts, log=True)\n",
    "plt.grid(True)\n",
    "plt.xlabel('DNS Query Lengths')\n",
    "plt.ylabel('Counts')"
   ]
  },
  {
   "cell_type": "code",
   "execution_count": 13,
   "metadata": {},
   "outputs": [
    {
     "data": {
      "text/plain": [
       "Text(0, 0.5, 'Counts')"
      ]
     },
     "execution_count": 13,
     "metadata": {},
     "output_type": "execute_result"
    },
    {
     "data": {
      "image/png": "[encoded data removed]",
      "text/plain": [
       "<Figure size 1152x432 with 1 Axes>"
      ]
     },
     "metadata": {
      "needs_background": "light"
     },
     "output_type": "display_data"
    }
   ],
   "source": [
    "# Show histogram of the Spark DF request body lengths\n",
    "bins, counts = spark_df.select('answer_length').rdd.flatMap(lambda x: x).histogram(50)\n",
    "\n",
    "# This is a bit awkward but I believe this is the correct way to do it\n",
    "plt.hist(bins[:-1], bins=bins, weights=counts, log=True)\n",
    "plt.grid(True)\n",
    "plt.xlabel('DNS Answer Lengths')\n",
    "plt.ylabel('Counts')"
   ]
  },
  {
   "cell_type": "markdown",
   "metadata": {},
   "source": [
    "<div style=\"float: right; margin: 0px 0px 0px 0px\"><img src=\"images/cleanup.jpeg\" width=\"200px\"></div>\n",
    "\n",
    "# Cleanup\n",
    "There are two bits of cleanup that we MUST do:\n",
    "- Remove '.' from the column names (see Note:)\n",
    "- Drop NULLs\n",
    "\n",
    "**Note:** Yes you can do backticks when selecting the column names BUT some of the pipeline operations below will FAIL internally if the column names have a '.' in them."
   ]
  },
  {
   "cell_type": "code",
   "execution_count": 14,
   "metadata": {},
   "outputs": [],
   "source": [
    "# Replace '.' in the column names with '-'\n",
    "nice_names = list(map(lambda x: x.replace('.', '_'), spark_df.columns))\n",
    "spark_df = spark_df.toDF(*nice_names)\n",
    "\n",
    "# Fill in NULL values\n",
    "spark_df = spark_df.na.fill(0)   # For numeric columns\n",
    "spark_df = spark_df.na.fill('-') # For string columns"
   ]
  },
  {
   "cell_type": "markdown",
   "metadata": {},
   "source": [
    "<div style=\"float: right; margin: 50px 0px 0px 20px\"><img src=\"images/pipelines.jpg\" width=\"380px\"></div>\n",
    "\n",
    "# Spark Pipelines\n",
    "A Spark pipeline is a way to combine a sequence of complex algorithms and transformations to create a workflow. Once a pipeline is created Spark can optimize that pipeline when it's executed.\n",
    "\n",
    "Below our pipeline consists of the following stages:\n",
    "- **String Indexer:** Takes our string columns and assigns an index to each unique string\n",
    "- **OneHotEncoder:** Takes our string index and maps it to a bit vector\n",
    "- **Normalization:** Converts our numeric data into a 0-1 range\n",
    "- **Assembler:** Combines the encoded categorical data and numerical data into a combined matrix\n",
    "\n",
    "\n",
    "For more information on the details of Categorical Type to One Hot Encoding see our SCP Labs [Encoding Dangers](https://nbviewer.jupyter.org/github/SuperCowPowers/scp-labs/blob/master/notebooks/Categorical_Encoding_Dangers.ipynb) notebook."
   ]
  },
  {
   "cell_type": "code",
   "execution_count": 15,
   "metadata": {},
   "outputs": [],
   "source": [
    "from pyspark.ml import Pipeline\n",
    "from pyspark.ml.feature import OneHotEncoder, StringIndexer, VectorAssembler, StandardScaler\n",
    "\n",
    "cat_columns = ['qtype_name', 'proto']\n",
    "num_columns = ['query_length', 'answer_length']\n",
    "features = cat_columns + num_columns\n",
    "stages = []\n",
    "\n",
    "# String Indexer + One Hot Encoder (for categorical columns)\n",
    "for cat_col in cat_columns:\n",
    "    string_indexer = StringIndexer(inputCol=cat_col, outputCol=cat_col + '_index')\n",
    "    encoder = OneHotEncoder(inputCol=cat_col + '_index', outputCol=cat_col + '_onehot')\n",
    "    stages += [string_indexer, encoder]\n",
    "\n",
    "# Run StandardScaler on all the numerical features\n",
    "num_vector = VectorAssembler(inputCols=num_columns, outputCol = 'num_features')\n",
    "norm = StandardScaler(inputCol='num_features', outputCol='num_features_norm')\n",
    "stages += [num_vector, norm]\n",
    "\n",
    "# Assemble the categorical (one hot vectors) and numeric columns together\n",
    "assembler_inputs = [c + \"_onehot\" for c in cat_columns] + ['num_features_norm']\n",
    "assembler = VectorAssembler(inputCols=assembler_inputs, outputCol='features')\n",
    "stages += [assembler]\n",
    "\n",
    "# Run the pipeline\n",
    "pipeline = Pipeline(stages=stages)\n",
    "pipelineModel = pipeline.fit(spark_df)\n",
    "spark_df = pipelineModel.transform(spark_df)"
   ]
  },
  {
   "cell_type": "code",
   "execution_count": 16,
   "metadata": {},
   "outputs": [
    {
     "name": "stdout",
     "output_type": "stream",
     "text": [
      "+-------------------------------------------+\n",
      "|features                                   |\n",
      "+-------------------------------------------+\n",
      "|(16,[0,13,14],[1.0,1.0,2.2774453637337704])|\n",
      "|(16,[0,13,14],[1.0,1.0,1.1842715891415605])|\n",
      "|(16,[0,13,14],[1.0,1.0,1.457565032789613]) |\n",
      "|(16,[0,13,14],[1.0,1.0,3.0062278801285767])|\n",
      "|(16,[0,13,14],[1.0,1.0,1.3664672182402622])|\n",
      "|(16,[0,13,14],[1.0,1.0,3.0062278801285767])|\n",
      "|(16,[0,13,14],[1.0,1.0,1.457565032789613]) |\n",
      "|(16,[0,13,14],[1.0,1.0,2.2774453637337704])|\n",
      "|(16,[0,13,14],[1.0,1.0,1.913054105536367]) |\n",
      "|(16,[0,13,14],[1.0,1.0,1.913054105536367]) |\n",
      "|(16,[0,13,14],[1.0,1.0,1.913054105536367]) |\n",
      "|(16,[0,13,14],[1.0,1.0,1.913054105536367]) |\n",
      "|(16,[0,13,14],[1.0,1.0,1.913054105536367]) |\n",
      "|(16,[0,13,14],[1.0,1.0,1.913054105536367]) |\n",
      "|(16,[0,13,14],[1.0,1.0,1.913054105536367]) |\n",
      "|(16,[0,13,14],[1.0,1.0,1.913054105536367]) |\n",
      "|(16,[0,13,14],[1.0,1.0,1.913054105536367]) |\n",
      "|(16,[0,13,14],[1.0,1.0,1.913054105536367]) |\n",
      "|(16,[3,13,14],[1.0,1.0,2.459640992832472]) |\n",
      "|(16,[2,13,14],[1.0,1.0,1.5486628473389639])|\n",
      "+-------------------------------------------+\n",
      "only showing top 20 rows\n",
      "\n"
     ]
    }
   ],
   "source": [
    "spark_df.select('features').show(truncate = False)"
   ]
  },
  {
   "cell_type": "code",
   "execution_count": 23,
   "metadata": {},
   "outputs": [],
   "source": [
    "from pyspark.ml.clustering import KMeans\n",
    "\n",
    "# Train a k-means model.\n",
    "kmeans = KMeans().setK(60)\n",
    "model = kmeans.fit(spark_df)"
   ]
  },
  {
   "cell_type": "code",
   "execution_count": 24,
   "metadata": {},
   "outputs": [
    {
     "name": "stdout",
     "output_type": "stream",
     "text": [
      "Within Set Sum of Squared Errors = 3660.3511003031267\n"
     ]
    }
   ],
   "source": [
    "# Evaluate clustering by computing Within Set Sum of Squared Errors.\n",
    "wssse = model.computeCost(spark_df)\n",
    "print(\"Within Set Sum of Squared Errors = \" + str(wssse))"
   ]
  },
  {
   "cell_type": "code",
   "execution_count": 25,
   "metadata": {},
   "outputs": [
    {
     "name": "stdout",
     "output_type": "stream",
     "text": [
      "+----------+-----+----------+-----+\n",
      "|qtype_name|proto|prediction|count|\n",
      "+----------+-----+----------+-----+\n",
      "|       PTR|  tcp|         0|   25|\n",
      "|       PTR|  udp|         0|40370|\n",
      "|        NB|  udp|         1|10282|\n",
      "|      AXFR|  tcp|         2|  104|\n",
      "|        NB|  udp|         3|24786|\n",
      "|         A|  udp|         4|55907|\n",
      "|         -|  udp|         5| 3255|\n",
      "|         -|  tcp|         5|  163|\n",
      "|      AAAA|  udp|         6| 9241|\n",
      "|         A|  udp|         7| 6238|\n",
      "|       PTR|  udp|         8|    6|\n",
      "|      AXFR|  tcp|         8|   68|\n",
      "|         A|  tcp|         9|    4|\n",
      "|         A|  udp|         9|29310|\n",
      "|       SRV|  udp|        10|10419|\n",
      "|         A|  udp|        10|   58|\n",
      "|       PTR|  udp|        11|11809|\n",
      "|      AXFR|  tcp|        12|   74|\n",
      "|         A|  udp|        13|15155|\n",
      "|        NB|  udp|        14|11374|\n",
      "|      AXFR|  tcp|        15|   25|\n",
      "|       SOA|  udp|        15|  224|\n",
      "|        NS|  udp|        15|   43|\n",
      "|       SRV|  udp|        15|    4|\n",
      "|      AAAA|  udp|        16|17271|\n",
      "|      AAAA|  udp|        17| 5800|\n",
      "|       TXT|  tcp|        18|  135|\n",
      "|       TXT|  udp|        18|11149|\n",
      "|      AAAA|  udp|        19|  290|\n",
      "|      AAAA|  udp|        20| 3764|\n",
      "|       SOA|  udp|        21|   31|\n",
      "|        NB|  udp|        21| 1920|\n",
      "|         *|  udp|        22|  175|\n",
      "|       TXT|  udp|        23|   22|\n",
      "|       TXT|  tcp|        23|   91|\n",
      "|     NAPTR|  udp|        24|    1|\n",
      "|         A|  udp|        24|13833|\n",
      "|       SOA|  udp|        25|   82|\n",
      "|       TXT|  udp|        25|   16|\n",
      "|         A|  udp|        25|    3|\n",
      "|       SRV|  udp|        25|   10|\n",
      "|      AXFR|  tcp|        26|   87|\n",
      "|         A|  udp|        27| 1296|\n",
      "|         A|  udp|        28|38422|\n",
      "|         A|  udp|        29| 7900|\n",
      "|         *|  udp|        30|  638|\n",
      "|         -|  udp|        31|    8|\n",
      "|      AAAA|  udp|        32|   81|\n",
      "|         A|  udp|        33|11535|\n",
      "|     NAPTR|  udp|        33|   26|\n",
      "+----------+-----+----------+-----+\n",
      "only showing top 50 rows\n",
      "\n"
     ]
    }
   ],
   "source": [
    "# Lets look at some of the clustering results\n",
    "transformed = model.transform(spark_df).select(features + ['prediction'])\n",
    "transformed.groupby(cat_columns + ['prediction']).count().sort('prediction').show(50)"
   ]
  },
  {
   "cell_type": "markdown",
   "metadata": {},
   "source": [
    "<div style=\"float: left; margin: 20px 20px 20px 20px\"><img src=\"images/eyeball.jpeg\" width=\"150px\"></div>\n",
    "\n",
    "# The clusters seem to look okay\n",
    "We can see that there's some natural grouping/clusters around the different qtype_names and protocpls but we also see that many of the query types/protocols are in several clusters... so lets take a closer look at the 'TXT' queries (Note: Replace 'TXT', with any other type and feel free to explore the other 'sub-clusters')"
   ]
  },
  {
   "cell_type": "code",
   "execution_count": 26,
   "metadata": {},
   "outputs": [
    {
     "name": "stdout",
     "output_type": "stream",
     "text": [
      "+----------+-----+------------+-------------+----------+-----+\n",
      "|qtype_name|proto|query_length|answer_length|prediction|count|\n",
      "+----------+-----+------------+-------------+----------+-----+\n",
      "|       TXT|  udp|          14|           17|        18|    1|\n",
      "|       TXT|  udp|          24|            0|        18|    1|\n",
      "|       TXT|  udp|          13|            0|        18|   31|\n",
      "|       TXT|  udp|          22|            0|        18|   62|\n",
      "|       TXT|  udp|           9|            0|        18|   21|\n",
      "|       TXT|  udp|          12|            0|        18|  488|\n",
      "|       TXT|  udp|          12|            5|        18|  214|\n",
      "|       TXT|  udp|          23|            0|        18|   12|\n",
      "|       TXT|  tcp|          12|            5|        18|  106|\n",
      "|       TXT|  udp|          12|           12|        18|    1|\n",
      "|       TXT|  tcp|          12|            0|        18|   24|\n",
      "|       TXT|  udp|          13|            6|        18|   13|\n",
      "|       TXT|  tcp|          12|           12|        18|    5|\n",
      "|       TXT|  udp|          14|            0|        18|10305|\n",
      "|       TXT|  tcp|          12|           33|        23|   91|\n",
      "|       TXT|  udp|          12|           33|        23|   22|\n",
      "|       TXT|  udp|          82|           11|        25|    6|\n",
      "|       TXT|  udp|          64|            0|        25|    2|\n",
      "|       TXT|  udp|          72|            0|        25|    4|\n",
      "|       TXT|  udp|          67|            0|        25|    2|\n",
      "|       TXT|  udp|          83|            0|        25|    2|\n",
      "|       TXT|  udp|          40|            0|        40|  347|\n",
      "|       TXT|  udp|          35|            0|        40|   16|\n",
      "|       TXT|  udp|          34|            0|        40|    3|\n",
      "|       TXT|  udp|          42|            0|        40|  532|\n",
      "|       TXT|  udp|          33|            0|        40|    2|\n",
      "|       TXT|  udp|          41|            0|        40|  436|\n",
      "|       TXT|  udp|          36|            0|        40|    9|\n",
      "|       TXT|  udp|          39|            0|        40|   98|\n",
      "|       TXT|  udp|          36|           22|        51|    2|\n",
      "|       TXT|  udp|          29|           32|        51|    6|\n",
      "|       TXT|  udp|          36|           33|        51|    6|\n",
      "+----------+-----+------------+-------------+----------+-----+\n",
      "\n"
     ]
    }
   ],
   "source": [
    "# Lets look at the 'TXT' query_name clusters\n",
    "txt_queries = transformed.where(transformed['qtype_name'] == 'TXT').groupby(features + ['prediction']).\\\n",
    "count().sort('prediction')\n",
    "txt_queries.show(50)"
   ]
  },
  {
   "cell_type": "code",
   "execution_count": 27,
   "metadata": {},
   "outputs": [
    {
     "data": {
      "image/png": "[encoded data removed]",
      "text/plain": [
       "<Figure size 1152x432 with 1 Axes>"
      ]
     },
     "metadata": {
      "needs_background": "light"
     },
     "output_type": "display_data"
    }
   ],
   "source": [
    "# The groupby/count produces a very small amount of data that \n",
    "# we can easily pull down and plot from our local client\n",
    "import pandas as pd\n",
    "spark.conf.set(\"spark.sql.execution.arrow.enabled\", \"true\")\n",
    "\n",
    "# Convert to Pandas (make sure it's small)\n",
    "txt_df = txt_queries.toPandas()\n",
    "\n",
    "# Now use dataframe group by cluster\n",
    "cluster_groups = txt_df.groupby('prediction')\n",
    "\n",
    "# Plot the Machine Learning results\n",
    "choices = ['red', 'green', 'blue', 'black', 'orange', 'purple', 'brown',\n",
    "           'pink', 'lightblue', 'grey', 'yellow']\n",
    "colors = {value: choices[index] for index, value in enumerate(txt_df['prediction'].unique())}\n",
    "\n",
    "fig, ax = plt.subplots()\n",
    "for key, group in cluster_groups:\n",
    "    group.plot(ax=ax, kind='scatter', x='query_length', y='answer_length', alpha=0.5, s=250,\n",
    "               label='Cluster: {:d}'.format(key), color=colors[key])"
   ]
  },
  {
   "cell_type": "markdown",
   "metadata": {},
   "source": [
    "<div style=\"float: left; margin: 30px 30px 0px 0px\"><img src=\"images/exploration.jpg\" width=\"250px\"></div>\n",
    "\n",
    "## Interesting...\n",
    "So we gave the clustering algorithm both categorical types and numerical types and it seems to have done a reasonable job using both, we can see that the categorical types are clustered and then within the categorical clustering we have a set of 'sub-clusters' based on the numerical values."
   ]
  },
  {
   "cell_type": "markdown",
   "metadata": {},
   "source": [
    "<img align=\"right\" style=\"padding:20px\" src=\"images/SCP_med.png\" width=\"180\">\n",
    "\n",
    "## Wrap Up\n",
    "Well that's it for this notebook, we pulled in Zeek log data from a Parquet file, then did some digging with high speed, parallel SQL operations and finally we clustered our data to organize the restuls.\n",
    "\n",
    "If you liked this notebook please visit the [BAT](https://github.com/SuperCowPowers/bat) project for more notebooks and examples.\n",
    "\n",
    "## About SuperCowPowers\n",
    "The company was formed so that its developers could follow their passion for Python, streaming data pipelines and having fun with data analysis. We also think cows are cool and should be superheros or at least carry around rayguns and burner phones. <a href=\"https://www.supercowpowers.com\" target=\"_blank\">Visit SuperCowPowers</a>"
   ]
  }
 ],
 "metadata": {
  "kernelspec": {
   "display_name": "Python 3",
   "language": "python",
   "name": "python3"
  },
  "language_info": {
   "codemirror_mode": {
    "name": "ipython",
    "version": 3
   },
   "file_extension": ".py",
   "mimetype": "text/x-python",
   "name": "python",
   "nbconvert_exporter": "python",
   "pygments_lexer": "ipython3",
   "version": "3.7.4"
  }
 },
 "nbformat": 4,
 "nbformat_minor": 2
}
